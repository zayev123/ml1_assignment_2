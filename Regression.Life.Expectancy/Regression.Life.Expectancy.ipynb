{
 "cells": [
  {
   "cell_type": "code",
   "execution_count": 5,
   "metadata": {},
   "outputs": [
    {
     "name": "stderr",
     "output_type": "stream",
     "text": [
      "/var/folders/ct/fjh_5m0n2zj9r5lpl1nrd20m0000gn/T/ipykernel_1687/4235140061.py:3: DeprecationWarning: \n",
      "Pyarrow will become a required dependency of pandas in the next major release of pandas (pandas 3.0),\n",
      "(to allow more performant data types, such as the Arrow string type, and better interoperability with other libraries)\n",
      "but was not found to be installed on your system.\n",
      "If this would cause problems for you,\n",
      "please provide us feedback at https://github.com/pandas-dev/pandas/issues/54466\n",
      "        \n",
      "  import pandas as pd\n"
     ]
    }
   ],
   "source": [
    "import numpy as np\n",
    "import matplotlib.pyplot as plt\n",
    "import pandas as pd\n",
    "import sklearn\n",
    "from sklearn.model_selection import train_test_split\n",
    "from sklearn.preprocessing import StandardScaler\n",
    "from sklearn.neighbors import KNeighborsRegressor\n",
    "from sklearn.metrics import confusion_matrix,accuracy_score\n",
    "import seaborn as sns\n",
    "from sklearn import preprocessing\n",
    "from sklearn.preprocessing import LabelEncoder\n",
    "from sklearn.model_selection import cross_val_score\n",
    "from sklearn.model_selection import KFold\n",
    "from sklearn.feature_selection import mutual_info_regression\n",
    "import copy\n",
    "from sklearn.feature_selection import RFE\n",
    "from sklearn.feature_selection import SelectKBest\n",
    "from sklearn.feature_selection import f_classif\n",
    "import statistics\n",
    "import plotly.graph_objs as go\n",
    "from sklearn.decomposition import PCA\n",
    "from sklearn.metrics import mean_squared_error, r2_score\n",
    "import statsmodels.api as sm"
   ]
  },
  {
   "cell_type": "code",
   "execution_count": 35,
   "metadata": {},
   "outputs": [],
   "source": [
    "class DataAnalyzer:\n",
    "    def __init__(self):\n",
    "        file_path = 'Regression.Life.Expectancy.csv'\n",
    "\n",
    "        self.dataset = pd.read_csv(file_path, header=None)\n",
    "        self.dataset.columns = self.dataset.iloc[0]\n",
    "\n",
    "        self.dataset = self.dataset.drop(0)\n",
    "        self.dataset = self.dataset.drop(self.dataset.columns[0], axis=1)\n",
    "        self.original_dataset = self.dataset\n",
    "        self.fill_nan_vals()\n",
    "        # print(self.dataset.shape[1])\n",
    "        self.dataset = self.dataset.dropna(axis=1)\n",
    "        # print(self.dataset.shape[1])\n",
    "        self.convert_and_encode()\n",
    "        self.remove_outliers()\n",
    "        # self.dataset = self.dataset.drop(columns=['lights'])\n",
    "        clmns_to_drop = [\" HIV/AIDS\", \"infant deaths\", \"percentage expenditure\", \"Measles \", \"under-five deaths \", \"GDP\", \"Population\"]\n",
    "        self.dataset = self.dataset.drop(columns=clmns_to_drop)\n",
    "        # for to_drop in clmns_to_drop:\n",
    "\n",
    "        # self.normalize_df_by_max()\n",
    "\n",
    "  \n",
    "    def fill_nan_vals(self):\n",
    "        for column in self.dataset.columns:\n",
    "            if self.dataset[column].dtype == 'object':  # Non-numerical column\n",
    "                mode_val = self.dataset[column].mode()[0]\n",
    "                self.dataset[column] = self.dataset[column].fillna(mode_val)\n",
    "            else:  # Numerical column\n",
    "                mean_val = self.dataset[column].mean()\n",
    "                self.dataset[column] = self.dataset[column].fillna(mean_val)\n",
    "\n",
    "    def drop_nan_vals(self):\n",
    "        self.dataset = self.dataset.dropna()\n",
    "        \n",
    "    def convert_and_encode(self):\n",
    "        label_encoder = LabelEncoder()\n",
    "        columns_to_exclude = [\"Status\", \"Year\"]\n",
    "        for column in self.dataset.columns:\n",
    "            if column not in columns_to_exclude:\n",
    "                self.dataset.loc[:, column] = self.dataset[column].astype(float)\n",
    "            else:\n",
    "                encoded_values = label_encoder.fit_transform(self.dataset[column])\n",
    "                self.dataset.loc[:, column] = encoded_values\n",
    "                if column == \"Year\":\n",
    "                    self.dataset.loc[:, column] = self.dataset[column].astype(float)\n",
    "\n",
    "\n",
    "\n",
    "    def show_boxplots(self):\n",
    "        fig, axs = plt.subplots(ncols=7, nrows=4, figsize=(20, 10))\n",
    "        index = 0\n",
    "        axs = axs.flatten()\n",
    "        for k,v in self.dataset.items():\n",
    "            sns.boxplot(y=k, data=self.dataset, ax=axs[index])\n",
    "            index += 1\n",
    "        plt.tight_layout(pad=0.4, w_pad=0.5, h_pad=5.0)\n",
    "\n",
    "    def show_outlier_percs(self):\n",
    "        for k, v in self.dataset.items():\n",
    "            q1 = v.quantile(0.25)\n",
    "            q3 = v.quantile(0.75)\n",
    "            irq = q3 - q1\n",
    "            v_col = v[(v <= q1 - 1.5 * irq) | (v >= q3 + 1.5 * irq)]\n",
    "            perc = np.shape(v_col)[0] * 100.0 / np.shape(self.dataset)[0]\n",
    "            print(\"Column %s outliers = %.2f%%\" % (k, perc))\n",
    "\n",
    "    def remove_outliers(self):\n",
    "        self.dataset = self.dataset[~((self.dataset['Life expectancy '] < 42))]\n",
    "        self.dataset = self.dataset[~((self.dataset['Adult Mortality'] > 500))]\n",
    "        self.dataset = self.dataset[~((self.dataset['Hepatitis B'] < 50))]\n",
    "        self.dataset = self.dataset[~((self.dataset['Polio'] < 40))]\n",
    "        self.dataset = self.dataset[~((self.dataset['Total expenditure'] > 15))]\n",
    "        self.dataset = self.dataset[~((self.dataset['Diphtheria '] < 40))]\n",
    "        self.dataset = self.dataset[~((self.dataset[' thinness  1-19 years'] > 20))]\n",
    "        return self.dataset\n",
    "\n",
    "    def normalize_df_by_max(self):\n",
    "        columns_to_exclude=[]\n",
    "        normalized_df = self.dataset.copy()\n",
    "        for column in self.dataset.columns:\n",
    "            if column not in columns_to_exclude:\n",
    "                max_abs_value = abs(self.dataset[column]).max()\n",
    "                normalized_df[column] = self.dataset[column] / max_abs_value\n",
    "\n",
    "        self.dataset = normalized_df\n",
    "        return self.dataset\n",
    "\n",
    "    def normalize_df_by_mean(self):\n",
    "        sc = StandardScaler()\n",
    "        self.X_train = sc.fit_transform(self.X_train)\n",
    "        self.X_test_final = sc.transform(self.X_test_final)\n",
    "        if self.X_cv is not None:\n",
    "            self.X_cv = sc.fit_transform(self.X_cv)\n",
    "        return(self.X_train, self.X_test_final, self.X_cv)\n",
    "    \n",
    "    def show_histplots(self):\n",
    "        fig, axs = plt.subplots(ncols=7, nrows=5, figsize=(20, 10))\n",
    "        index = 0\n",
    "        axs = axs.flatten()\n",
    "        for k,v in self.dataset.items():\n",
    "            sns.histplot(v, ax=axs[index])\n",
    "            index += 1\n",
    "        plt.tight_layout(pad=0.4, w_pad=0.5, h_pad=5.0)\n",
    "\n",
    "    def show_heat_map(self, dataset = None):\n",
    "        if dataset is None:\n",
    "            corr_matrix = self.dataset.corr()\n",
    "        else:\n",
    "            corr_matrix = dataset.corr()\n",
    "        plt.figure(figsize=(20, 20))\n",
    "        sns.heatmap(corr_matrix, annot=True, cmap='coolwarm', fmt=\".2f\")\n",
    "        plt.title(\"Correlation Matrix\")\n",
    "        plt.show()\n",
    "\n",
    "    def perform_filter_methods(self):\n",
    "        data = copy.deepcopy(self.dataset)\n",
    "        X = copy.deepcopy(data).drop(columns=['Life expectancy '])  # Features\n",
    "        print(\"total features = \", len(X.columns))\n",
    "        y = copy.deepcopy(data['Life expectancy ']).astype(float) \n",
    "        # Calculate Mutual Information scores\n",
    "        mi_scores = mutual_info_regression(X, y)\n",
    "        # Select features with MI score > 0.5\n",
    "        selected_features = X.columns[mi_scores > 0.05]\n",
    "        print(\"selected features with high mutual information with the target = \", len(selected_features))\n",
    "        # Calculate correlation matrix\n",
    "        corr_matrix = X[selected_features].corr().abs()\n",
    "        copy_ds = copy.deepcopy(data[selected_features])\n",
    "        # Remove one of two highly correlated features\n",
    "        to_drop = set()\n",
    "        dropped_columns = {}\n",
    "        for i in range(len(corr_matrix.columns)):\n",
    "            if i not in dropped_columns:\n",
    "                for j in range(len(corr_matrix.columns)):\n",
    "                    if abs(corr_matrix.iloc[i, j]) > 0.8 and i!=j and j not in dropped_columns and i not in dropped_columns and i!=j:\n",
    "                        \n",
    "                        colname_i = corr_matrix.columns[i]\n",
    "                        colname_j = corr_matrix.columns[j]\n",
    "                        # Calculate the Mutual Information score of each feature with the target variable\n",
    "                        mi_i = mutual_info_regression(X[colname_i].values.reshape(-1, 1), y)[0]\n",
    "                        mi_j = mutual_info_regression(X[colname_j].values.reshape(-1, 1), y)[0]\n",
    "                        # Keep the feature with higher Mutual Information score\n",
    "                        if mi_i > mi_j:\n",
    "                            to_drop.add(colname_j)\n",
    "                            dropped_columns[j] = colname_j\n",
    "                        else:\n",
    "                            to_drop.add(colname_i)\n",
    "                            dropped_columns[i] = colname_i\n",
    "        final_selected_features = selected_features.drop(to_drop)\n",
    "        print(\"final selected features after removing one of two correlated features = \", len(final_selected_features))\n",
    "        self.dataset = self.dataset[final_selected_features]\n",
    "        self.dataset[\"Life expectancy \"] = data[\"Life expectancy \"]\n",
    "        self.show_heat_map()\n",
    "        return self.dataset\n",
    "    \n",
    "    def perform_wrapper_method(self):\n",
    "        feature_scores = []\n",
    "        feature_scores_dict = {}\n",
    "        total_num_of_columns = len(self.X.columns)\n",
    "        for i in range(1,total_num_of_columns+1):\n",
    "            newAnlyzr = DataAnalyzer()\n",
    "            newAnlyzr.get_x_and_Y()\n",
    "            (best_avg_score, scores) = newAnlyzr.perform_kfold_cv(num_of_columns=i)\n",
    "            if best_avg_score <= 0:\n",
    "                continue\n",
    "            mean_score = newAnlyzr.get_accuracy()\n",
    "            feature_scores.append((i, mean_score))\n",
    "            feature_scores_dict[i] = mean_score\n",
    "        self.feature_scores = feature_scores\n",
    "        additional_feature_penalty = -0.05\n",
    "        score_weight = 0.95\n",
    "        adjusted_scores = []\n",
    "        best_num_of_features = 1\n",
    "        best_adjusted_score = 0\n",
    "        for (j, mn_score) in feature_scores:\n",
    "            adjusted_score = mn_score*score_weight + j*additional_feature_penalty/total_num_of_columns\n",
    "            adjusted_scores.append((j, adjusted_score))\n",
    "            if adjusted_score > best_adjusted_score:\n",
    "                best_adjusted_score = adjusted_score\n",
    "                best_num_of_features = j\n",
    "        best_score = feature_scores_dict[best_num_of_features]\n",
    "\n",
    "        return {\n",
    "            \"best_num_of_features\": best_num_of_features,\n",
    "            \"best_score\": best_score\n",
    "        }\n",
    "    \n",
    "    def plot_wrapper_scores(self):\n",
    "        x_values, y_values = zip(*self.feature_scores)\n",
    "        # Create a Plotly trace\n",
    "        trace = go.Scatter(x=x_values, y=y_values, mode='lines+markers')\n",
    "\n",
    "        # Create a Plotly layout\n",
    "        layout = go.Layout(\n",
    "            title='Wrapper Method Feature Scores',\n",
    "            xaxis=dict(title='Number of Features'),\n",
    "            yaxis=dict(title='Accuracy')\n",
    "        )\n",
    "\n",
    "        # Create a Plotly figure\n",
    "        fig = go.Figure(data=[trace], layout=layout)\n",
    "\n",
    "        # Display the plot\n",
    "        fig.show()\n",
    "\n",
    "    def perform_pca(self, n_components=None):\n",
    "        # Standardize the data\n",
    "        scaler = StandardScaler()\n",
    "        data = self.X\n",
    "        standardized_data = scaler.fit_transform(data)\n",
    "\n",
    "        # Create PCA object\n",
    "        pca = PCA(n_components=n_components)\n",
    "\n",
    "        # Fit and transform the data\n",
    "        pca_data = pca.fit_transform(standardized_data)\n",
    "\n",
    "        # Create a DataFrame for the PCA results\n",
    "        pca_columns = [f\"PC{i+1}\" for i in range(pca_data.shape[1])]\n",
    "        pca_df = pd.DataFrame(data=pca_data, columns=pca_columns)\n",
    "\n",
    "        # Concatenate with original dataset\n",
    "        self.X = pca_df\n",
    "\n",
    "    def plot_variations(self):\n",
    "        min_max_scaler = preprocessing.MinMaxScaler()\n",
    "        column_sels = self.dataset.columns\n",
    "        x = self.dataset.loc[:,column_sels]\n",
    "        y = self.dataset['Life expectancy ']\n",
    "        # x = pd.DataFrame(data=min_max_scaler.fit_transform(x), columns=column_sels)\n",
    "        fig, axs = plt.subplots(ncols=4, nrows=5, figsize=(20, 10))\n",
    "        index = 0\n",
    "        axs = axs.flatten()\n",
    "        for i, k in enumerate(column_sels):\n",
    "            sns.regplot(y=y, x=x[k], ax=axs[i])\n",
    "        plt.tight_layout(pad=0.4, w_pad=0.5, h_pad=5.0)\n",
    "    \n",
    "    def get_x_and_Y(self):\n",
    "        self.X = self.dataset.drop('Life expectancy ', axis=1)  # Assuming 'p' is the target variable\n",
    "        self.y = self.dataset['Life expectancy ']\n",
    "        return (self.X, self.y)\n",
    "    \n",
    "    def perform_manual_splitting_cv(self):\n",
    "        # First split to get training set and first test set\n",
    "        self.X_train, X_temp, self.y_train, y_temp = train_test_split(self.X, self.y, test_size=0.4, random_state=0)\n",
    "        self.y_train = self.y_train.astype(float)\n",
    "        y_temp =  y_temp.astype(float)\n",
    "\n",
    "        # Second split to further split the temporary test set into the second test set\n",
    "        self.X_cv, self.X_test_final, self.y_cv, self.y_test_final = train_test_split(X_temp, y_temp, test_size=0.5, random_state=0)\n",
    "        self.y_cv = self.y_cv.astype(float)\n",
    "        self.y_test_final = self.y_test_final.astype(float)\n",
    "\n",
    "    def perform_manual_splitting_without_cv(self):\n",
    "        # First split to get training set and first test set\n",
    "        self.X_train, self.X_test_final, y_train, y_temp = train_test_split(self.X, self.y, test_size=0.2, random_state=0)\n",
    "        self.y_train = y_train.astype(float)\n",
    "        self.y_test_final = y_temp.astype(float)\n",
    "\n",
    "    def perform_knn_without_cv(self):\n",
    "        self.classifier = KNeighborsRegressor(n_neighbors = 20, metric = 'minkowski', p = 2.7)\n",
    "        self.classifier.fit(self.X_train, self.y_train)\n",
    "        y_pred1 = self.classifier.predict(self.X_test_final)\n",
    "        rmse = mean_squared_error(self.y_test_final,y_pred1)  # Calculate RMSE\n",
    "        target_range = np.max(self.y) - np.min(self.y)  # Calculate the range of the target variable\n",
    "        accuracy_percentage = (1 - (rmse / target_range)) * 100  # Calculate accuracy as a percentage\n",
    "        self.ac_final = accuracy_percentage\n",
    "        return self.ac_final\n",
    "        \n",
    "\n",
    "    def perform_knn(self):\n",
    "        self.classifier = KNeighborsRegressor(n_neighbors = 20, metric = 'minkowski', p = 2.7)\n",
    "        self.classifier.fit(self.X_train, self.y_train)\n",
    "        y_pred1 = self.classifier.predict(self.X_cv)\n",
    "        self.ac_cv = mean_squared_error(self.y_cv,y_pred1)\n",
    "        return self.ac_cv\n",
    "\n",
    "    def get_accuracy(self):\n",
    "        y_pred_final = self.classifier.predict(self.X_test_final)\n",
    "        # self.ac_final = mean_squared_error(self.y_test_final,y_pred_final)\n",
    "        rmse = mean_squared_error(self.y_test_final,y_pred_final)  # Calculate RMSE\n",
    "        target_range = np.max(self.y) - np.min(self.y)  # Calculate the range of the target variable\n",
    "        accuracy_percentage = (1 - (rmse / target_range)) * 100  # Calculate accuracy as a percentage\n",
    "        self.ac_final = accuracy_percentage\n",
    "        return self.ac_final\n",
    "\n",
    "    \n",
    "    def perform_kfold_cv(self, num_of_columns = None):\n",
    "        X_train, X_test_final, y_train, y_test_final = train_test_split(self.X, self.y, test_size=0.2, random_state=0)\n",
    "        if num_of_columns:\n",
    "            X_train = copy.deepcopy(X_train.iloc[:, :num_of_columns])\n",
    "            X_test_final = copy.deepcopy(X_test_final.iloc[:, :num_of_columns])\n",
    "        self.X_train = X_train\n",
    "        self.y_train = y_train.astype(float)\n",
    "        self.X_test_final = X_test_final.reindex(X_train.columns, axis=1)\n",
    "        self.y_test_final = y_test_final.astype(float)\n",
    "        classifier = KNeighborsRegressor(n_neighbors = 40, metric = 'minkowski', p = 2.7)\n",
    "\n",
    "        # Perform k-fold cross-validation\n",
    "        kf = KFold(n_splits=5, shuffle=True, random_state=0)\n",
    "\n",
    "        scores = []\n",
    "        best_model = None\n",
    "        best_score = 0\n",
    "\n",
    "        for train_index, val_index in kf.split(X_train):\n",
    "            X_train_fold, X_val_fold = X_train.iloc[train_index], X_train.iloc[val_index]\n",
    "            y_train_fold, y_val_fold = y_train.iloc[train_index].astype(float), y_train.iloc[val_index].astype(float)\n",
    "\n",
    "            # Train the model on the training fold\n",
    "            classifier.fit(X_train_fold, y_train_fold)\n",
    "\n",
    "            # Evaluate the model on the validation fold\n",
    "            y_val_pred = classifier.predict(X_val_fold)\n",
    "            rmse = mean_squared_error(y_val_fold, y_val_pred)\n",
    "            target_range = np.max(self.y) - np.min(self.y)  # Calculate the range of the target variable\n",
    "            accuracy_percentage = (1 - (rmse / target_range)) * 100  # Calculate accuracy as a percentage\n",
    "\n",
    "            # Update the best model if the current model has a better average performance\n",
    "            if accuracy_percentage > best_score:\n",
    "                best_score = accuracy_percentage\n",
    "                best_model = classifier\n",
    "            scores.append(accuracy_percentage)\n",
    "        \n",
    "        self.classifier = best_model\n",
    "        return(best_score, scores)\n",
    "\n",
    "class Master:\n",
    "    def __init__(self):\n",
    "        self.results = {}\n",
    "        \n",
    "    def organize_results(self):\n",
    "        items = []\n",
    "        for k, v in self.results.items():\n",
    "            print(k, v)\n",
    "            if isinstance(v, dict):\n",
    "                for xk, xv in v.items():\n",
    "                    new_x_key = xk\n",
    "                    items.append((new_x_key, xv))\n",
    "            else:\n",
    "                new_key = k\n",
    "                items.append((new_key, v))\n",
    "        r_items = dict(items)\n",
    "        df = pd.DataFrame({'method': list(r_items.keys()), 'result': list(r_items.values())})\n",
    "        return df\n",
    "\n",
    "    def run_without_cv(self):\n",
    "        anlyzr = DataAnalyzer()\n",
    "        anlyzr.get_x_and_Y()\n",
    "        anlyzr.perform_manual_splitting_without_cv()\n",
    "        rslts = anlyzr.perform_knn_without_cv()\n",
    "        self.results[\"run without cv\"] = rslts\n",
    "\n",
    "    def run_with_cv(self):\n",
    "        anlyzr = DataAnalyzer()\n",
    "        anlyzr.get_x_and_Y()\n",
    "        anlyzr.perform_manual_splitting_cv()\n",
    "        anlyzr.perform_knn()\n",
    "        self.results[\"run with cv\"] = anlyzr.get_accuracy()\n",
    "\n",
    "    def run_with_kfold(self):\n",
    "        anlyzr = DataAnalyzer()\n",
    "        anlyzr.get_x_and_Y()\n",
    "        (best_avg_score, scores) = anlyzr.perform_kfold_cv()\n",
    "        self.results[\"after_k_fold_run\"] = {\n",
    "            \"best kfold cv score\": best_avg_score,\n",
    "            \"scores\": scores,\n",
    "            \"final kfold score on test dataset\": anlyzr.get_accuracy()\n",
    "        }\n",
    "\n",
    "    def run_with_filter(self):\n",
    "        # Implement feature selection using filter method (e.g., correlation)\n",
    "        anlyzr = DataAnalyzer()\n",
    "        anlyzr.perform_filter_methods()\n",
    "        anlyzr.get_x_and_Y()\n",
    "        anlyzr.perform_manual_splitting_cv()\n",
    "        anlyzr.perform_knn()\n",
    "        self.results[\"with_filter_method\"] = anlyzr.get_accuracy()\n",
    "\n",
    "    def run_with_wrapper(self):\n",
    "        anlyzr = DataAnalyzer()\n",
    "        anlyzr.get_x_and_Y()\n",
    "        anlyzr.perform_manual_splitting_cv()\n",
    "        self.results = anlyzr.perform_wrapper_method()\n",
    "        anlyzr.plot_wrapper_scores()\n",
    "\n",
    "    def run_with_pca(self):\n",
    "        # Implement feature selection using PCA\n",
    "        anlyzr = DataAnalyzer()\n",
    "        anlyzr.get_x_and_Y()\n",
    "        anlyzr.perform_pca(n_components=2)\n",
    "        anlyzr.perform_manual_splitting_cv()\n",
    "        anlyzr.perform_knn()\n",
    "        self.results[\"with_pca\"] = anlyzr.get_accuracy()\n",
    "\n",
    "    def run_with_ols(self):\n",
    "        anlyzr = DataAnalyzer()\n",
    "        anlyzr.get_x_and_Y()\n",
    "        anlyzr.perform_manual_splitting_cv()\n",
    "\n",
    "        anlyzr.X_train = anlyzr.X_train.astype(float)\n",
    "        anlyzr.y_train = anlyzr.y_train.astype(float)\n",
    "        #add constant to predictor variables\n",
    "        x = sm.add_constant(anlyzr.X_train)\n",
    "\n",
    "        #fit linear regression model\n",
    "        model = sm.OLS(anlyzr.y_train, anlyzr.X_train).fit()\n",
    "        print(model.summary())\n",
    "        y_cv_pred = model.predict(anlyzr.X_cv)\n",
    "\n",
    "        mse_cv = mean_squared_error(anlyzr.y_cv, y_cv_pred)\n",
    "        r2 = r2_score(anlyzr.y_cv, y_cv_pred)\n",
    "\n",
    "        target_range = np.max(anlyzr.y) - np.min(anlyzr.y)  # Calculate the range of the target variable\n",
    "        accuracy_percentage_cv = (1 - (mse_cv / target_range)) * 100  # Calculate accuracy as a percentage\n",
    "        self.ac_final = accuracy_percentage_cv\n",
    "\n",
    "        # \n",
    "        y_test_pred = model.predict(anlyzr.X_test_final)\n",
    "\n",
    "        mse_test = mean_squared_error(anlyzr.y_test_final, y_test_pred)\n",
    "        r2 = r2_score(anlyzr.y_test_final, y_test_pred)\n",
    "\n",
    "        accuracy_percentage_test = (1 - (mse_test / target_range)) * 100  # Calculate accuracy as a percentage\n",
    "        self.ac_final = accuracy_percentage_test\n",
    "\n",
    "        self.results[\"run_with_ols_cv\"] = accuracy_percentage_cv\n",
    "        self.results[\"run_with_ols_test\"] = accuracy_percentage_test\n",
    "    \n",
    "    def run_cv_problem(self):\n",
    "        self.run_without_cv()\n",
    "        self.run_with_cv()\n",
    "        self.run_with_kfold()\n",
    "        return self.results\n"
   ]
  },
  {
   "cell_type": "code",
   "execution_count": 17,
   "metadata": {},
   "outputs": [
    {
     "name": "stdout",
     "output_type": "stream",
     "text": [
      "                                 OLS Regression Results                                \n",
      "=======================================================================================\n",
      "Dep. Variable:       Life expectancy    R-squared (uncentered):                   0.993\n",
      "Model:                            OLS   Adj. R-squared (uncentered):              0.993\n",
      "Method:                 Least Squares   F-statistic:                          1.541e+04\n",
      "Date:                Tue, 26 Mar 2024   Prob (F-statistic):                        0.00\n",
      "Time:                        21:42:16   Log-Likelihood:                         -4553.4\n",
      "No. Observations:                1423   AIC:                                      9133.\n",
      "Df Residuals:                    1410   BIC:                                      9201.\n",
      "Df Model:                          13                                                  \n",
      "Covariance Type:            nonrobust                                                  \n",
      "===================================================================================================\n",
      "                                      coef    std err          t      P>|t|      [0.025      0.975]\n",
      "---------------------------------------------------------------------------------------------------\n",
      "Year                                0.1197      0.038      3.147      0.002       0.045       0.194\n",
      "Status                              2.1194      0.501      4.234      0.000       1.137       3.101\n",
      "Adult Mortality                    -0.0121      0.002     -7.063      0.000      -0.015      -0.009\n",
      "Alcohol                             0.0207      0.054      0.379      0.705      -0.086       0.127\n",
      "Hepatitis B                         0.2191      0.015     14.404      0.000       0.189       0.249\n",
      " BMI                                0.0694      0.010      6.875      0.000       0.050       0.089\n",
      "Polio                               0.1928      0.048      3.992      0.000       0.098       0.287\n",
      "Total expenditure                   0.3634      0.073      4.982      0.000       0.220       0.506\n",
      "Diphtheria                          0.1077      0.048      2.227      0.026       0.013       0.203\n",
      " thinness  1-19 years               0.0836      0.100      0.833      0.405      -0.113       0.281\n",
      " thinness 5-9 years                 0.0451      0.099      0.455      0.649      -0.149       0.239\n",
      "Income composition of resources     5.3515      0.846      6.329      0.000       3.693       7.010\n",
      "Schooling                           1.1276      0.074     15.161      0.000       0.982       1.273\n",
      "==============================================================================\n",
      "Omnibus:                       59.897   Durbin-Watson:                   1.926\n",
      "Prob(Omnibus):                  0.000   Jarque-Bera (JB):               83.742\n",
      "Skew:                           0.399   Prob(JB):                     6.54e-19\n",
      "Kurtosis:                       3.881   Cond. No.                     1.26e+03\n",
      "==============================================================================\n",
      "\n",
      "Notes:\n",
      "[1] R² is computed without centering (uncentered) since the model does not contain a constant.\n",
      "[2] Standard Errors assume that the covariance matrix of the errors is correctly specified.\n",
      "[3] The condition number is large, 1.26e+03. This might indicate that there are\n",
      "strong multicollinearity or other numerical problems.\n",
      "run_with_ols_cv 23.96888942649428\n",
      "run_with_ols_test 27.57655580087903\n"
     ]
    },
    {
     "data": {
      "text/html": [
       "<div>\n",
       "<style scoped>\n",
       "    .dataframe tbody tr th:only-of-type {\n",
       "        vertical-align: middle;\n",
       "    }\n",
       "\n",
       "    .dataframe tbody tr th {\n",
       "        vertical-align: top;\n",
       "    }\n",
       "\n",
       "    .dataframe thead th {\n",
       "        text-align: right;\n",
       "    }\n",
       "</style>\n",
       "<table border=\"1\" class=\"dataframe\">\n",
       "  <thead>\n",
       "    <tr style=\"text-align: right;\">\n",
       "      <th></th>\n",
       "      <th>method</th>\n",
       "      <th>result</th>\n",
       "    </tr>\n",
       "  </thead>\n",
       "  <tbody>\n",
       "    <tr>\n",
       "      <th>0</th>\n",
       "      <td>run_with_ols_cv</td>\n",
       "      <td>23.968889</td>\n",
       "    </tr>\n",
       "    <tr>\n",
       "      <th>1</th>\n",
       "      <td>run_with_ols_test</td>\n",
       "      <td>27.576556</td>\n",
       "    </tr>\n",
       "  </tbody>\n",
       "</table>\n",
       "</div>"
      ],
      "text/plain": [
       "              method     result\n",
       "0    run_with_ols_cv  23.968889\n",
       "1  run_with_ols_test  27.576556"
      ]
     },
     "execution_count": 17,
     "metadata": {},
     "output_type": "execute_result"
    }
   ],
   "source": [
    "ols_mstr = Master()\n",
    "ols_mstr.run_with_ols()\n",
    "ols_mstr.organize_results()"
   ]
  },
  {
   "cell_type": "code",
   "execution_count": 30,
   "metadata": {},
   "outputs": [
    {
     "name": "stdout",
     "output_type": "stream",
     "text": [
      "[77.08015739462414, 69.42516070522935, 75.03830968950749, 58.88294568853005, 79.83536379263586]\n",
      "run without cv 81.57199211089824\n",
      "run with cv 76.98870460948946\n",
      "after_k_fold_run {'best kfold cv score': 79.83536379263586, 'scores': [77.08015739462414, 69.42516070522935, 75.03830968950749, 58.88294568853005, 79.83536379263586], 'final kfold score on test dataset': 76.89653620534204}\n"
     ]
    },
    {
     "data": {
      "text/html": [
       "<div>\n",
       "<style scoped>\n",
       "    .dataframe tbody tr th:only-of-type {\n",
       "        vertical-align: middle;\n",
       "    }\n",
       "\n",
       "    .dataframe tbody tr th {\n",
       "        vertical-align: top;\n",
       "    }\n",
       "\n",
       "    .dataframe thead th {\n",
       "        text-align: right;\n",
       "    }\n",
       "</style>\n",
       "<table border=\"1\" class=\"dataframe\">\n",
       "  <thead>\n",
       "    <tr style=\"text-align: right;\">\n",
       "      <th></th>\n",
       "      <th>method</th>\n",
       "      <th>result</th>\n",
       "    </tr>\n",
       "  </thead>\n",
       "  <tbody>\n",
       "    <tr>\n",
       "      <th>0</th>\n",
       "      <td>run without cv</td>\n",
       "      <td>81.571992</td>\n",
       "    </tr>\n",
       "    <tr>\n",
       "      <th>1</th>\n",
       "      <td>run with cv</td>\n",
       "      <td>76.988705</td>\n",
       "    </tr>\n",
       "    <tr>\n",
       "      <th>2</th>\n",
       "      <td>best kfold cv score</td>\n",
       "      <td>79.835364</td>\n",
       "    </tr>\n",
       "    <tr>\n",
       "      <th>3</th>\n",
       "      <td>scores</td>\n",
       "      <td>[77.08015739462414, 69.42516070522935, 75.0383...</td>\n",
       "    </tr>\n",
       "    <tr>\n",
       "      <th>4</th>\n",
       "      <td>final kfold score on test dataset</td>\n",
       "      <td>76.896536</td>\n",
       "    </tr>\n",
       "  </tbody>\n",
       "</table>\n",
       "</div>"
      ],
      "text/plain": [
       "                              method  \\\n",
       "0                     run without cv   \n",
       "1                        run with cv   \n",
       "2                best kfold cv score   \n",
       "3                             scores   \n",
       "4  final kfold score on test dataset   \n",
       "\n",
       "                                              result  \n",
       "0                                          81.571992  \n",
       "1                                          76.988705  \n",
       "2                                          79.835364  \n",
       "3  [77.08015739462414, 69.42516070522935, 75.0383...  \n",
       "4                                          76.896536  "
      ]
     },
     "execution_count": 30,
     "metadata": {},
     "output_type": "execute_result"
    }
   ],
   "source": [
    "cv_mstr = Master()\n",
    "cv_mstr.run_cv_problem()\n",
    "cv_mstr.organize_results()"
   ]
  },
  {
   "cell_type": "code",
   "execution_count": 22,
   "metadata": {},
   "outputs": [
    {
     "name": "stdout",
     "output_type": "stream",
     "text": [
      "total features =  13\n",
      "[0.07976737 0.20629104 1.22819405 0.33426415 0.13633396 0.51867054\n",
      " 0.24897661 0.25296468 0.25553411 0.75766095 0.75416816 0.88796509\n",
      " 0.67021267]\n",
      "selected features with high mutual information with the target =  13\n",
      "final selected features after removing one of two correlated features =  11\n"
     ]
    },
    {
     "data": {
      "image/png": "[encoded data removed]",
      "text/plain": [
       "<Figure size 2000x2000 with 2 Axes>"
      ]
     },
     "metadata": {},
     "output_type": "display_data"
    },
    {
     "name": "stdout",
     "output_type": "stream",
     "text": [
      "with_filter_method 76.28962414065141\n"
     ]
    },
    {
     "data": {
      "text/html": [
       "<div>\n",
       "<style scoped>\n",
       "    .dataframe tbody tr th:only-of-type {\n",
       "        vertical-align: middle;\n",
       "    }\n",
       "\n",
       "    .dataframe tbody tr th {\n",
       "        vertical-align: top;\n",
       "    }\n",
       "\n",
       "    .dataframe thead th {\n",
       "        text-align: right;\n",
       "    }\n",
       "</style>\n",
       "<table border=\"1\" class=\"dataframe\">\n",
       "  <thead>\n",
       "    <tr style=\"text-align: right;\">\n",
       "      <th></th>\n",
       "      <th>method</th>\n",
       "      <th>result</th>\n",
       "    </tr>\n",
       "  </thead>\n",
       "  <tbody>\n",
       "    <tr>\n",
       "      <th>0</th>\n",
       "      <td>with_filter_method</td>\n",
       "      <td>76.289624</td>\n",
       "    </tr>\n",
       "  </tbody>\n",
       "</table>\n",
       "</div>"
      ],
      "text/plain": [
       "               method     result\n",
       "0  with_filter_method  76.289624"
      ]
     },
     "execution_count": 22,
     "metadata": {},
     "output_type": "execute_result"
    }
   ],
   "source": [
    "filter_mstr = Master()\n",
    "filter_mstr.run_with_filter()\n",
    "filter_mstr.organize_results()"
   ]
  },
  {
   "cell_type": "code",
   "execution_count": 37,
   "metadata": {},
   "outputs": [
    {
     "data": {
      "application/vnd.plotly.v1+json": {
       "config": {
        "plotlyServerURL": "https://plot.ly"
       },
       "data": [
        {
         "mode": "lines+markers",
         "type": "scatter",
         "x": [
          3,
          4,
          5,
          6,
          7,
          8,
          9,
          10,
          11,
          12,
          13
         ],
         "y": [
          63.90788465006199,
          67.48051017130621,
          66.52806871971147,
          71.93448709568354,
          75.01616051504566,
          75.06369404372816,
          76.31337380254706,
          76.72035836244788,
          76.75831776174913,
          76.75831776174913,
          76.89653620534204
         ]
        }
       ],
       "layout": {
        "template": {
         "data": {
          "bar": [
           {
            "error_x": {
             "color": "#2a3f5f"
            },
            "error_y": {
             "color": "#2a3f5f"
            },
            "marker": {
             "line": {
              "color": "#E5ECF6",
              "width": 0.5
             },
             "pattern": {
              "fillmode": "overlay",
              "size": 10,
              "solidity": 0.2
             }
            },
            "type": "bar"
           }
          ],
          "barpolar": [
           {
            "marker": {
             "line": {
              "color": "#E5ECF6",
              "width": 0.5
             },
             "pattern": {
              "fillmode": "overlay",
              "size": 10,
              "solidity": 0.2
             }
            },
            "type": "barpolar"
           }
          ],
          "carpet": [
           {
            "aaxis": {
             "endlinecolor": "#2a3f5f",
             "gridcolor": "white",
             "linecolor": "white",
             "minorgridcolor": "white",
             "startlinecolor": "#2a3f5f"
            },
            "baxis": {
             "endlinecolor": "#2a3f5f",
             "gridcolor": "white",
             "linecolor": "white",
             "minorgridcolor": "white",
             "startlinecolor": "#2a3f5f"
            },
            "type": "carpet"
           }
          ],
          "choropleth": [
           {
            "colorbar": {
             "outlinewidth": 0,
             "ticks": ""
            },
            "type": "choropleth"
           }
          ],
          "contour": [
           {
            "colorbar": {
             "outlinewidth": 0,
             "ticks": ""
            },
            "colorscale": [
             [
              0,
              "#0d0887"
             ],
             [
              0.1111111111111111,
              "#46039f"
             ],
             [
              0.2222222222222222,
              "#7201a8"
             ],
             [
              0.3333333333333333,
              "#9c179e"
             ],
             [
              0.4444444444444444,
              "#bd3786"
             ],
             [
              0.5555555555555556,
              "#d8576b"
             ],
             [
              0.6666666666666666,
              "#ed7953"
             ],
             [
              0.7777777777777778,
              "#fb9f3a"
             ],
             [
              0.8888888888888888,
              "#fdca26"
             ],
             [
              1,
              "#f0f921"
             ]
            ],
            "type": "contour"
           }
          ],
          "contourcarpet": [
           {
            "colorbar": {
             "outlinewidth": 0,
             "ticks": ""
            },
            "type": "contourcarpet"
           }
          ],
          "heatmap": [
           {
            "colorbar": {
             "outlinewidth": 0,
             "ticks": ""
            },
            "colorscale": [
             [
              0,
              "#0d0887"
             ],
             [
              0.1111111111111111,
              "#46039f"
             ],
             [
              0.2222222222222222,
              "#7201a8"
             ],
             [
              0.3333333333333333,
              "#9c179e"
             ],
             [
              0.4444444444444444,
              "#bd3786"
             ],
             [
              0.5555555555555556,
              "#d8576b"
             ],
             [
              0.6666666666666666,
              "#ed7953"
             ],
             [
              0.7777777777777778,
              "#fb9f3a"
             ],
             [
              0.8888888888888888,
              "#fdca26"
             ],
             [
              1,
              "#f0f921"
             ]
            ],
            "type": "heatmap"
           }
          ],
          "heatmapgl": [
           {
            "colorbar": {
             "outlinewidth": 0,
             "ticks": ""
            },
            "colorscale": [
             [
              0,
              "#0d0887"
             ],
             [
              0.1111111111111111,
              "#46039f"
             ],
             [
              0.2222222222222222,
              "#7201a8"
             ],
             [
              0.3333333333333333,
              "#9c179e"
             ],
             [
              0.4444444444444444,
              "#bd3786"
             ],
             [
              0.5555555555555556,
              "#d8576b"
             ],
             [
              0.6666666666666666,
              "#ed7953"
             ],
             [
              0.7777777777777778,
              "#fb9f3a"
             ],
             [
              0.8888888888888888,
              "#fdca26"
             ],
             [
              1,
              "#f0f921"
             ]
            ],
            "type": "heatmapgl"
           }
          ],
          "histogram": [
           {
            "marker": {
             "pattern": {
              "fillmode": "overlay",
              "size": 10,
              "solidity": 0.2
             }
            },
            "type": "histogram"
           }
          ],
          "histogram2d": [
           {
            "colorbar": {
             "outlinewidth": 0,
             "ticks": ""
            },
            "colorscale": [
             [
              0,
              "#0d0887"
             ],
             [
              0.1111111111111111,
              "#46039f"
             ],
             [
              0.2222222222222222,
              "#7201a8"
             ],
             [
              0.3333333333333333,
              "#9c179e"
             ],
             [
              0.4444444444444444,
              "#bd3786"
             ],
             [
              0.5555555555555556,
              "#d8576b"
             ],
             [
              0.6666666666666666,
              "#ed7953"
             ],
             [
              0.7777777777777778,
              "#fb9f3a"
             ],
             [
              0.8888888888888888,
              "#fdca26"
             ],
             [
              1,
              "#f0f921"
             ]
            ],
            "type": "histogram2d"
           }
          ],
          "histogram2dcontour": [
           {
            "colorbar": {
             "outlinewidth": 0,
             "ticks": ""
            },
            "colorscale": [
             [
              0,
              "#0d0887"
             ],
             [
              0.1111111111111111,
              "#46039f"
             ],
             [
              0.2222222222222222,
              "#7201a8"
             ],
             [
              0.3333333333333333,
              "#9c179e"
             ],
             [
              0.4444444444444444,
              "#bd3786"
             ],
             [
              0.5555555555555556,
              "#d8576b"
             ],
             [
              0.6666666666666666,
              "#ed7953"
             ],
             [
              0.7777777777777778,
              "#fb9f3a"
             ],
             [
              0.8888888888888888,
              "#fdca26"
             ],
             [
              1,
              "#f0f921"
             ]
            ],
            "type": "histogram2dcontour"
           }
          ],
          "mesh3d": [
           {
            "colorbar": {
             "outlinewidth": 0,
             "ticks": ""
            },
            "type": "mesh3d"
           }
          ],
          "parcoords": [
           {
            "line": {
             "colorbar": {
              "outlinewidth": 0,
              "ticks": ""
             }
            },
            "type": "parcoords"
           }
          ],
          "pie": [
           {
            "automargin": true,
            "type": "pie"
           }
          ],
          "scatter": [
           {
            "fillpattern": {
             "fillmode": "overlay",
             "size": 10,
             "solidity": 0.2
            },
            "type": "scatter"
           }
          ],
          "scatter3d": [
           {
            "line": {
             "colorbar": {
              "outlinewidth": 0,
              "ticks": ""
             }
            },
            "marker": {
             "colorbar": {
              "outlinewidth": 0,
              "ticks": ""
             }
            },
            "type": "scatter3d"
           }
          ],
          "scattercarpet": [
           {
            "marker": {
             "colorbar": {
              "outlinewidth": 0,
              "ticks": ""
             }
            },
            "type": "scattercarpet"
           }
          ],
          "scattergeo": [
           {
            "marker": {
             "colorbar": {
              "outlinewidth": 0,
              "ticks": ""
             }
            },
            "type": "scattergeo"
           }
          ],
          "scattergl": [
           {
            "marker": {
             "colorbar": {
              "outlinewidth": 0,
              "ticks": ""
             }
            },
            "type": "scattergl"
           }
          ],
          "scattermapbox": [
           {
            "marker": {
             "colorbar": {
              "outlinewidth": 0,
              "ticks": ""
             }
            },
            "type": "scattermapbox"
           }
          ],
          "scatterpolar": [
           {
            "marker": {
             "colorbar": {
              "outlinewidth": 0,
              "ticks": ""
             }
            },
            "type": "scatterpolar"
           }
          ],
          "scatterpolargl": [
           {
            "marker": {
             "colorbar": {
              "outlinewidth": 0,
              "ticks": ""
             }
            },
            "type": "scatterpolargl"
           }
          ],
          "scatterternary": [
           {
            "marker": {
             "colorbar": {
              "outlinewidth": 0,
              "ticks": ""
             }
            },
            "type": "scatterternary"
           }
          ],
          "surface": [
           {
            "colorbar": {
             "outlinewidth": 0,
             "ticks": ""
            },
            "colorscale": [
             [
              0,
              "#0d0887"
             ],
             [
              0.1111111111111111,
              "#46039f"
             ],
             [
              0.2222222222222222,
              "#7201a8"
             ],
             [
              0.3333333333333333,
              "#9c179e"
             ],
             [
              0.4444444444444444,
              "#bd3786"
             ],
             [
              0.5555555555555556,
              "#d8576b"
             ],
             [
              0.6666666666666666,
              "#ed7953"
             ],
             [
              0.7777777777777778,
              "#fb9f3a"
             ],
             [
              0.8888888888888888,
              "#fdca26"
             ],
             [
              1,
              "#f0f921"
             ]
            ],
            "type": "surface"
           }
          ],
          "table": [
           {
            "cells": {
             "fill": {
              "color": "#EBF0F8"
             },
             "line": {
              "color": "white"
             }
            },
            "header": {
             "fill": {
              "color": "#C8D4E3"
             },
             "line": {
              "color": "white"
             }
            },
            "type": "table"
           }
          ]
         },
         "layout": {
          "annotationdefaults": {
           "arrowcolor": "#2a3f5f",
           "arrowhead": 0,
           "arrowwidth": 1
          },
          "autotypenumbers": "strict",
          "coloraxis": {
           "colorbar": {
            "outlinewidth": 0,
            "ticks": ""
           }
          },
          "colorscale": {
           "diverging": [
            [
             0,
             "#8e0152"
            ],
            [
             0.1,
             "#c51b7d"
            ],
            [
             0.2,
             "#de77ae"
            ],
            [
             0.3,
             "#f1b6da"
            ],
            [
             0.4,
             "#fde0ef"
            ],
            [
             0.5,
             "#f7f7f7"
            ],
            [
             0.6,
             "#e6f5d0"
            ],
            [
             0.7,
             "#b8e186"
            ],
            [
             0.8,
             "#7fbc41"
            ],
            [
             0.9,
             "#4d9221"
            ],
            [
             1,
             "#276419"
            ]
           ],
           "sequential": [
            [
             0,
             "#0d0887"
            ],
            [
             0.1111111111111111,
             "#46039f"
            ],
            [
             0.2222222222222222,
             "#7201a8"
            ],
            [
             0.3333333333333333,
             "#9c179e"
            ],
            [
             0.4444444444444444,
             "#bd3786"
            ],
            [
             0.5555555555555556,
             "#d8576b"
            ],
            [
             0.6666666666666666,
             "#ed7953"
            ],
            [
             0.7777777777777778,
             "#fb9f3a"
            ],
            [
             0.8888888888888888,
             "#fdca26"
            ],
            [
             1,
             "#f0f921"
            ]
           ],
           "sequentialminus": [
            [
             0,
             "#0d0887"
            ],
            [
             0.1111111111111111,
             "#46039f"
            ],
            [
             0.2222222222222222,
             "#7201a8"
            ],
            [
             0.3333333333333333,
             "#9c179e"
            ],
            [
             0.4444444444444444,
             "#bd3786"
            ],
            [
             0.5555555555555556,
             "#d8576b"
            ],
            [
             0.6666666666666666,
             "#ed7953"
            ],
            [
             0.7777777777777778,
             "#fb9f3a"
            ],
            [
             0.8888888888888888,
             "#fdca26"
            ],
            [
             1,
             "#f0f921"
            ]
           ]
          },
          "colorway": [
           "#636efa",
           "#EF553B",
           "#00cc96",
           "#ab63fa",
           "#FFA15A",
           "#19d3f3",
           "#FF6692",
           "#B6E880",
           "#FF97FF",
           "#FECB52"
          ],
          "font": {
           "color": "#2a3f5f"
          },
          "geo": {
           "bgcolor": "white",
           "lakecolor": "white",
           "landcolor": "#E5ECF6",
           "showlakes": true,
           "showland": true,
           "subunitcolor": "white"
          },
          "hoverlabel": {
           "align": "left"
          },
          "hovermode": "closest",
          "mapbox": {
           "style": "light"
          },
          "paper_bgcolor": "white",
          "plot_bgcolor": "#E5ECF6",
          "polar": {
           "angularaxis": {
            "gridcolor": "white",
            "linecolor": "white",
            "ticks": ""
           },
           "bgcolor": "#E5ECF6",
           "radialaxis": {
            "gridcolor": "white",
            "linecolor": "white",
            "ticks": ""
           }
          },
          "scene": {
           "xaxis": {
            "backgroundcolor": "#E5ECF6",
            "gridcolor": "white",
            "gridwidth": 2,
            "linecolor": "white",
            "showbackground": true,
            "ticks": "",
            "zerolinecolor": "white"
           },
           "yaxis": {
            "backgroundcolor": "#E5ECF6",
            "gridcolor": "white",
            "gridwidth": 2,
            "linecolor": "white",
            "showbackground": true,
            "ticks": "",
            "zerolinecolor": "white"
           },
           "zaxis": {
            "backgroundcolor": "#E5ECF6",
            "gridcolor": "white",
            "gridwidth": 2,
            "linecolor": "white",
            "showbackground": true,
            "ticks": "",
            "zerolinecolor": "white"
           }
          },
          "shapedefaults": {
           "line": {
            "color": "#2a3f5f"
           }
          },
          "ternary": {
           "aaxis": {
            "gridcolor": "white",
            "linecolor": "white",
            "ticks": ""
           },
           "baxis": {
            "gridcolor": "white",
            "linecolor": "white",
            "ticks": ""
           },
           "bgcolor": "#E5ECF6",
           "caxis": {
            "gridcolor": "white",
            "linecolor": "white",
            "ticks": ""
           }
          },
          "title": {
           "x": 0.05
          },
          "xaxis": {
           "automargin": true,
           "gridcolor": "white",
           "linecolor": "white",
           "ticks": "",
           "title": {
            "standoff": 15
           },
           "zerolinecolor": "white",
           "zerolinewidth": 2
          },
          "yaxis": {
           "automargin": true,
           "gridcolor": "white",
           "linecolor": "white",
           "ticks": "",
           "title": {
            "standoff": 15
           },
           "zerolinecolor": "white",
           "zerolinewidth": 2
          }
         }
        },
        "title": {
         "text": "Wrapper Method Feature Scores"
        },
        "xaxis": {
         "title": {
          "text": "Number of Features"
         }
        },
        "yaxis": {
         "title": {
          "text": "Accuracy"
         }
        }
       }
      }
     },
     "metadata": {},
     "output_type": "display_data"
    },
    {
     "name": "stdout",
     "output_type": "stream",
     "text": [
      "best_num_of_features 13\n",
      "best_score 76.89653620534204\n"
     ]
    },
    {
     "data": {
      "text/html": [
       "<div>\n",
       "<style scoped>\n",
       "    .dataframe tbody tr th:only-of-type {\n",
       "        vertical-align: middle;\n",
       "    }\n",
       "\n",
       "    .dataframe tbody tr th {\n",
       "        vertical-align: top;\n",
       "    }\n",
       "\n",
       "    .dataframe thead th {\n",
       "        text-align: right;\n",
       "    }\n",
       "</style>\n",
       "<table border=\"1\" class=\"dataframe\">\n",
       "  <thead>\n",
       "    <tr style=\"text-align: right;\">\n",
       "      <th></th>\n",
       "      <th>method</th>\n",
       "      <th>result</th>\n",
       "    </tr>\n",
       "  </thead>\n",
       "  <tbody>\n",
       "    <tr>\n",
       "      <th>0</th>\n",
       "      <td>best_num_of_features</td>\n",
       "      <td>13.000000</td>\n",
       "    </tr>\n",
       "    <tr>\n",
       "      <th>1</th>\n",
       "      <td>best_score</td>\n",
       "      <td>76.896536</td>\n",
       "    </tr>\n",
       "  </tbody>\n",
       "</table>\n",
       "</div>"
      ],
      "text/plain": [
       "                 method     result\n",
       "0  best_num_of_features  13.000000\n",
       "1            best_score  76.896536"
      ]
     },
     "execution_count": 37,
     "metadata": {},
     "output_type": "execute_result"
    }
   ],
   "source": [
    "wrapper_mstr = Master()\n",
    "wrapper_mstr.run_with_wrapper()\n",
    "wrapper_mstr.organize_results()"
   ]
  },
  {
   "cell_type": "code",
   "execution_count": 38,
   "metadata": {},
   "outputs": [
    {
     "name": "stdout",
     "output_type": "stream",
     "text": [
      "with_pca 62.27139084864195\n"
     ]
    },
    {
     "data": {
      "text/html": [
       "<div>\n",
       "<style scoped>\n",
       "    .dataframe tbody tr th:only-of-type {\n",
       "        vertical-align: middle;\n",
       "    }\n",
       "\n",
       "    .dataframe tbody tr th {\n",
       "        vertical-align: top;\n",
       "    }\n",
       "\n",
       "    .dataframe thead th {\n",
       "        text-align: right;\n",
       "    }\n",
       "</style>\n",
       "<table border=\"1\" class=\"dataframe\">\n",
       "  <thead>\n",
       "    <tr style=\"text-align: right;\">\n",
       "      <th></th>\n",
       "      <th>method</th>\n",
       "      <th>result</th>\n",
       "    </tr>\n",
       "  </thead>\n",
       "  <tbody>\n",
       "    <tr>\n",
       "      <th>0</th>\n",
       "      <td>with_pca</td>\n",
       "      <td>62.271391</td>\n",
       "    </tr>\n",
       "  </tbody>\n",
       "</table>\n",
       "</div>"
      ],
      "text/plain": [
       "     method     result\n",
       "0  with_pca  62.271391"
      ]
     },
     "execution_count": 38,
     "metadata": {},
     "output_type": "execute_result"
    }
   ],
   "source": [
    "pca_mstr = Master()\n",
    "pca_mstr.run_with_pca()\n",
    "pca_mstr.organize_results()"
   ]
  },
  {
   "cell_type": "code",
   "execution_count": 15,
   "metadata": {},
   "outputs": [
    {
     "data": {
      "image/png": "[encoded data removed]",
      "text/plain": [
       "<Figure size 2000x1000 with 28 Axes>"
      ]
     },
     "metadata": {},
     "output_type": "display_data"
    }
   ],
   "source": [
    "anlyzr = DataAnalyzer()\n",
    "anlyzr.show_boxplots()\n",
    "# display(anlyzr.dataset)"
   ]
  },
  {
   "cell_type": "code",
   "execution_count": 28,
   "metadata": {},
   "outputs": [
    {
     "name": "stdout",
     "output_type": "stream",
     "text": [
      "[-61.60762453510653, -66.8827661163079, -53.64332765130171, -78.2670010607764, -59.17090407530241]\n"
     ]
    },
    {
     "ename": "AttributeError",
     "evalue": "'NoneType' object has no attribute 'predict'",
     "output_type": "error",
     "traceback": [
      "\u001b[0;31m---------------------------------------------------------------------------\u001b[0m",
      "\u001b[0;31mAttributeError\u001b[0m                            Traceback (most recent call last)",
      "\u001b[1;32m/Users/mirbilal/Desktop/ASSGNS_MLL/assgn_2/Regression.Life.Expectancy/Regression.Life.Expectancy.ipynb Cell 7\u001b[0m line \u001b[0;36m2\n\u001b[1;32m      <a href='vscode-notebook-cell:/Users/mirbilal/Desktop/ASSGNS_MLL/assgn_2/Regression.Life.Expectancy/Regression.Life.Expectancy.ipynb#X13sZmlsZQ%3D%3D?line=0'>1</a>\u001b[0m wrapper_mstr \u001b[39m=\u001b[39m Master()\n\u001b[0;32m----> <a href='vscode-notebook-cell:/Users/mirbilal/Desktop/ASSGNS_MLL/assgn_2/Regression.Life.Expectancy/Regression.Life.Expectancy.ipynb#X13sZmlsZQ%3D%3D?line=1'>2</a>\u001b[0m wrapper_mstr\u001b[39m.\u001b[39;49mrun_with_wrapper()\n\u001b[1;32m      <a href='vscode-notebook-cell:/Users/mirbilal/Desktop/ASSGNS_MLL/assgn_2/Regression.Life.Expectancy/Regression.Life.Expectancy.ipynb#X13sZmlsZQ%3D%3D?line=2'>3</a>\u001b[0m wrapper_mstr\u001b[39m.\u001b[39morganize_results()\n",
      "\u001b[1;32m/Users/mirbilal/Desktop/ASSGNS_MLL/assgn_2/Regression.Life.Expectancy/Regression.Life.Expectancy.ipynb Cell 7\u001b[0m line \u001b[0;36m3\n\u001b[1;32m    <a href='vscode-notebook-cell:/Users/mirbilal/Desktop/ASSGNS_MLL/assgn_2/Regression.Life.Expectancy/Regression.Life.Expectancy.ipynb#X13sZmlsZQ%3D%3D?line=382'>383</a>\u001b[0m anlyzr\u001b[39m.\u001b[39mget_x_and_Y()\n\u001b[1;32m    <a href='vscode-notebook-cell:/Users/mirbilal/Desktop/ASSGNS_MLL/assgn_2/Regression.Life.Expectancy/Regression.Life.Expectancy.ipynb#X13sZmlsZQ%3D%3D?line=383'>384</a>\u001b[0m anlyzr\u001b[39m.\u001b[39mperform_manual_splitting_cv()\n\u001b[0;32m--> <a href='vscode-notebook-cell:/Users/mirbilal/Desktop/ASSGNS_MLL/assgn_2/Regression.Life.Expectancy/Regression.Life.Expectancy.ipynb#X13sZmlsZQ%3D%3D?line=384'>385</a>\u001b[0m \u001b[39mself\u001b[39m\u001b[39m.\u001b[39mresults \u001b[39m=\u001b[39m anlyzr\u001b[39m.\u001b[39;49mperform_wrapper_method()\n\u001b[1;32m    <a href='vscode-notebook-cell:/Users/mirbilal/Desktop/ASSGNS_MLL/assgn_2/Regression.Life.Expectancy/Regression.Life.Expectancy.ipynb#X13sZmlsZQ%3D%3D?line=385'>386</a>\u001b[0m anlyzr\u001b[39m.\u001b[39mplot_wrapper_scores()\n",
      "\u001b[1;32m/Users/mirbilal/Desktop/ASSGNS_MLL/assgn_2/Regression.Life.Expectancy/Regression.Life.Expectancy.ipynb Cell 7\u001b[0m line \u001b[0;36m1\n\u001b[1;32m    <a href='vscode-notebook-cell:/Users/mirbilal/Desktop/ASSGNS_MLL/assgn_2/Regression.Life.Expectancy/Regression.Life.Expectancy.ipynb#X13sZmlsZQ%3D%3D?line=163'>164</a>\u001b[0m newAnlyzr\u001b[39m.\u001b[39mget_x_and_Y()\n\u001b[1;32m    <a href='vscode-notebook-cell:/Users/mirbilal/Desktop/ASSGNS_MLL/assgn_2/Regression.Life.Expectancy/Regression.Life.Expectancy.ipynb#X13sZmlsZQ%3D%3D?line=164'>165</a>\u001b[0m (best_avg_score, scores) \u001b[39m=\u001b[39m newAnlyzr\u001b[39m.\u001b[39mperform_kfold_cv(num_of_columns\u001b[39m=\u001b[39mi)\n\u001b[0;32m--> <a href='vscode-notebook-cell:/Users/mirbilal/Desktop/ASSGNS_MLL/assgn_2/Regression.Life.Expectancy/Regression.Life.Expectancy.ipynb#X13sZmlsZQ%3D%3D?line=165'>166</a>\u001b[0m mean_score \u001b[39m=\u001b[39m newAnlyzr\u001b[39m.\u001b[39;49mget_accuracy()\n\u001b[1;32m    <a href='vscode-notebook-cell:/Users/mirbilal/Desktop/ASSGNS_MLL/assgn_2/Regression.Life.Expectancy/Regression.Life.Expectancy.ipynb#X13sZmlsZQ%3D%3D?line=166'>167</a>\u001b[0m feature_scores\u001b[39m.\u001b[39mappend((i, mean_score))\n\u001b[1;32m    <a href='vscode-notebook-cell:/Users/mirbilal/Desktop/ASSGNS_MLL/assgn_2/Regression.Life.Expectancy/Regression.Life.Expectancy.ipynb#X13sZmlsZQ%3D%3D?line=167'>168</a>\u001b[0m feature_scores_dict[i] \u001b[39m=\u001b[39m mean_score\n",
      "\u001b[1;32m/Users/mirbilal/Desktop/ASSGNS_MLL/assgn_2/Regression.Life.Expectancy/Regression.Life.Expectancy.ipynb Cell 7\u001b[0m line \u001b[0;36m2\n\u001b[1;32m    <a href='vscode-notebook-cell:/Users/mirbilal/Desktop/ASSGNS_MLL/assgn_2/Regression.Life.Expectancy/Regression.Life.Expectancy.ipynb#X13sZmlsZQ%3D%3D?line=277'>278</a>\u001b[0m \u001b[39mdef\u001b[39;00m \u001b[39mget_accuracy\u001b[39m(\u001b[39mself\u001b[39m):\n\u001b[0;32m--> <a href='vscode-notebook-cell:/Users/mirbilal/Desktop/ASSGNS_MLL/assgn_2/Regression.Life.Expectancy/Regression.Life.Expectancy.ipynb#X13sZmlsZQ%3D%3D?line=278'>279</a>\u001b[0m     y_pred_final \u001b[39m=\u001b[39m \u001b[39mself\u001b[39;49m\u001b[39m.\u001b[39;49mclassifier\u001b[39m.\u001b[39;49mpredict(\u001b[39mself\u001b[39m\u001b[39m.\u001b[39mX_test_final)\n\u001b[1;32m    <a href='vscode-notebook-cell:/Users/mirbilal/Desktop/ASSGNS_MLL/assgn_2/Regression.Life.Expectancy/Regression.Life.Expectancy.ipynb#X13sZmlsZQ%3D%3D?line=279'>280</a>\u001b[0m     \u001b[39m# self.ac_final = mean_squared_error(self.y_test_final,y_pred_final)\u001b[39;00m\n\u001b[1;32m    <a href='vscode-notebook-cell:/Users/mirbilal/Desktop/ASSGNS_MLL/assgn_2/Regression.Life.Expectancy/Regression.Life.Expectancy.ipynb#X13sZmlsZQ%3D%3D?line=280'>281</a>\u001b[0m     rmse \u001b[39m=\u001b[39m mean_squared_error(\u001b[39mself\u001b[39m\u001b[39m.\u001b[39my_test_final,y_pred_final)  \u001b[39m# Calculate RMSE\u001b[39;00m\n",
      "\u001b[0;31mAttributeError\u001b[0m: 'NoneType' object has no attribute 'predict'"
     ]
    }
   ],
   "source": [
    "wrapper_mstr = Master()\n",
    "wrapper_mstr.run_with_wrapper()\n",
    "wrapper_mstr.organize_results()"
   ]
  },
  {
   "cell_type": "code",
   "execution_count": null,
   "metadata": {},
   "outputs": [],
   "source": [
    "drop = [\" HIV/AIDS\", \"infant deaths\", \"percentage expenditure\", \"Measles \", \"under-five deaths \", \"GDP\", \"Population\"]"
   ]
  },
  {
   "cell_type": "code",
   "execution_count": 12,
   "metadata": {},
   "outputs": [
    {
     "data": {
      "text/html": [
       "<div>\n",
       "<style scoped>\n",
       "    .dataframe tbody tr th:only-of-type {\n",
       "        vertical-align: middle;\n",
       "    }\n",
       "\n",
       "    .dataframe tbody tr th {\n",
       "        vertical-align: top;\n",
       "    }\n",
       "\n",
       "    .dataframe thead th {\n",
       "        text-align: right;\n",
       "    }\n",
       "</style>\n",
       "<table border=\"1\" class=\"dataframe\">\n",
       "  <thead>\n",
       "    <tr style=\"text-align: right;\">\n",
       "      <th></th>\n",
       "      <th>Year</th>\n",
       "      <th>Status</th>\n",
       "      <th>Life expectancy</th>\n",
       "      <th>Adult Mortality</th>\n",
       "      <th>infant deaths</th>\n",
       "      <th>Alcohol</th>\n",
       "      <th>percentage expenditure</th>\n",
       "      <th>Hepatitis B</th>\n",
       "      <th>Measles</th>\n",
       "      <th>BMI</th>\n",
       "      <th>...</th>\n",
       "      <th>Polio</th>\n",
       "      <th>Total expenditure</th>\n",
       "      <th>Diphtheria</th>\n",
       "      <th>HIV/AIDS</th>\n",
       "      <th>GDP</th>\n",
       "      <th>Population</th>\n",
       "      <th>thinness  1-19 years</th>\n",
       "      <th>thinness 5-9 years</th>\n",
       "      <th>Income composition of resources</th>\n",
       "      <th>Schooling</th>\n",
       "    </tr>\n",
       "  </thead>\n",
       "  <tbody>\n",
       "    <tr>\n",
       "      <th>2</th>\n",
       "      <td>14.0</td>\n",
       "      <td>1</td>\n",
       "      <td>59.9</td>\n",
       "      <td>271.0</td>\n",
       "      <td>64.0</td>\n",
       "      <td>0.01</td>\n",
       "      <td>73.523582</td>\n",
       "      <td>62.0</td>\n",
       "      <td>492.0</td>\n",
       "      <td>18.6</td>\n",
       "      <td>...</td>\n",
       "      <td>58.0</td>\n",
       "      <td>8.18</td>\n",
       "      <td>62.0</td>\n",
       "      <td>0.1</td>\n",
       "      <td>612.696514</td>\n",
       "      <td>327582.0</td>\n",
       "      <td>17.5</td>\n",
       "      <td>17.5</td>\n",
       "      <td>0.476</td>\n",
       "      <td>10.0</td>\n",
       "    </tr>\n",
       "    <tr>\n",
       "      <th>3</th>\n",
       "      <td>13.0</td>\n",
       "      <td>1</td>\n",
       "      <td>59.9</td>\n",
       "      <td>268.0</td>\n",
       "      <td>66.0</td>\n",
       "      <td>0.01</td>\n",
       "      <td>73.219243</td>\n",
       "      <td>64.0</td>\n",
       "      <td>430.0</td>\n",
       "      <td>18.1</td>\n",
       "      <td>...</td>\n",
       "      <td>62.0</td>\n",
       "      <td>8.13</td>\n",
       "      <td>64.0</td>\n",
       "      <td>0.1</td>\n",
       "      <td>631.744976</td>\n",
       "      <td>31731688.0</td>\n",
       "      <td>17.7</td>\n",
       "      <td>17.7</td>\n",
       "      <td>0.47</td>\n",
       "      <td>9.9</td>\n",
       "    </tr>\n",
       "    <tr>\n",
       "      <th>4</th>\n",
       "      <td>12.0</td>\n",
       "      <td>1</td>\n",
       "      <td>59.5</td>\n",
       "      <td>272.0</td>\n",
       "      <td>69.0</td>\n",
       "      <td>0.01</td>\n",
       "      <td>78.184215</td>\n",
       "      <td>67.0</td>\n",
       "      <td>2787.0</td>\n",
       "      <td>17.6</td>\n",
       "      <td>...</td>\n",
       "      <td>67.0</td>\n",
       "      <td>8.52</td>\n",
       "      <td>67.0</td>\n",
       "      <td>0.1</td>\n",
       "      <td>669.959</td>\n",
       "      <td>3696958.0</td>\n",
       "      <td>17.9</td>\n",
       "      <td>18.0</td>\n",
       "      <td>0.463</td>\n",
       "      <td>9.8</td>\n",
       "    </tr>\n",
       "    <tr>\n",
       "      <th>5</th>\n",
       "      <td>11.0</td>\n",
       "      <td>1</td>\n",
       "      <td>59.2</td>\n",
       "      <td>275.0</td>\n",
       "      <td>71.0</td>\n",
       "      <td>0.01</td>\n",
       "      <td>7.097109</td>\n",
       "      <td>68.0</td>\n",
       "      <td>3013.0</td>\n",
       "      <td>17.2</td>\n",
       "      <td>...</td>\n",
       "      <td>68.0</td>\n",
       "      <td>7.87</td>\n",
       "      <td>68.0</td>\n",
       "      <td>0.1</td>\n",
       "      <td>63.537231</td>\n",
       "      <td>2978599.0</td>\n",
       "      <td>18.2</td>\n",
       "      <td>18.2</td>\n",
       "      <td>0.454</td>\n",
       "      <td>9.5</td>\n",
       "    </tr>\n",
       "    <tr>\n",
       "      <th>6</th>\n",
       "      <td>10.0</td>\n",
       "      <td>1</td>\n",
       "      <td>58.8</td>\n",
       "      <td>279.0</td>\n",
       "      <td>74.0</td>\n",
       "      <td>0.01</td>\n",
       "      <td>79.679367</td>\n",
       "      <td>66.0</td>\n",
       "      <td>1989.0</td>\n",
       "      <td>16.7</td>\n",
       "      <td>...</td>\n",
       "      <td>66.0</td>\n",
       "      <td>9.2</td>\n",
       "      <td>66.0</td>\n",
       "      <td>0.1</td>\n",
       "      <td>553.32894</td>\n",
       "      <td>2883167.0</td>\n",
       "      <td>18.4</td>\n",
       "      <td>18.4</td>\n",
       "      <td>0.448</td>\n",
       "      <td>9.2</td>\n",
       "    </tr>\n",
       "    <tr>\n",
       "      <th>...</th>\n",
       "      <td>...</td>\n",
       "      <td>...</td>\n",
       "      <td>...</td>\n",
       "      <td>...</td>\n",
       "      <td>...</td>\n",
       "      <td>...</td>\n",
       "      <td>...</td>\n",
       "      <td>...</td>\n",
       "      <td>...</td>\n",
       "      <td>...</td>\n",
       "      <td>...</td>\n",
       "      <td>...</td>\n",
       "      <td>...</td>\n",
       "      <td>...</td>\n",
       "      <td>...</td>\n",
       "      <td>...</td>\n",
       "      <td>...</td>\n",
       "      <td>...</td>\n",
       "      <td>...</td>\n",
       "      <td>...</td>\n",
       "      <td>...</td>\n",
       "    </tr>\n",
       "    <tr>\n",
       "      <th>2925</th>\n",
       "      <td>13.0</td>\n",
       "      <td>1</td>\n",
       "      <td>58.0</td>\n",
       "      <td>399.0</td>\n",
       "      <td>25.0</td>\n",
       "      <td>6.39</td>\n",
       "      <td>10.666707</td>\n",
       "      <td>95.0</td>\n",
       "      <td>0.0</td>\n",
       "      <td>3.8</td>\n",
       "      <td>...</td>\n",
       "      <td>95.0</td>\n",
       "      <td>6.88</td>\n",
       "      <td>95.0</td>\n",
       "      <td>6.8</td>\n",
       "      <td>111.227396</td>\n",
       "      <td>155456.0</td>\n",
       "      <td>6.2</td>\n",
       "      <td>6.0</td>\n",
       "      <td>0.488</td>\n",
       "      <td>10.4</td>\n",
       "    </tr>\n",
       "    <tr>\n",
       "      <th>2926</th>\n",
       "      <td>12.0</td>\n",
       "      <td>1</td>\n",
       "      <td>56.6</td>\n",
       "      <td>429.0</td>\n",
       "      <td>26.0</td>\n",
       "      <td>6.09</td>\n",
       "      <td>92.602336</td>\n",
       "      <td>97.0</td>\n",
       "      <td>0.0</td>\n",
       "      <td>3.3</td>\n",
       "      <td>...</td>\n",
       "      <td>95.0</td>\n",
       "      <td>6.69</td>\n",
       "      <td>95.0</td>\n",
       "      <td>8.8</td>\n",
       "      <td>955.648466</td>\n",
       "      <td>1471826.0</td>\n",
       "      <td>6.5</td>\n",
       "      <td>6.4</td>\n",
       "      <td>0.464</td>\n",
       "      <td>9.8</td>\n",
       "    </tr>\n",
       "    <tr>\n",
       "      <th>2927</th>\n",
       "      <td>11.0</td>\n",
       "      <td>1</td>\n",
       "      <td>54.9</td>\n",
       "      <td>464.0</td>\n",
       "      <td>28.0</td>\n",
       "      <td>6.0</td>\n",
       "      <td>63.75053</td>\n",
       "      <td>94.0</td>\n",
       "      <td>0.0</td>\n",
       "      <td>29.9</td>\n",
       "      <td>...</td>\n",
       "      <td>93.0</td>\n",
       "      <td>6.31</td>\n",
       "      <td>93.0</td>\n",
       "      <td>13.3</td>\n",
       "      <td>839.927936</td>\n",
       "      <td>14386649.0</td>\n",
       "      <td>6.8</td>\n",
       "      <td>6.7</td>\n",
       "      <td>0.452</td>\n",
       "      <td>10.1</td>\n",
       "    </tr>\n",
       "    <tr>\n",
       "      <th>2931</th>\n",
       "      <td>7.0</td>\n",
       "      <td>1</td>\n",
       "      <td>46.6</td>\n",
       "      <td>67.0</td>\n",
       "      <td>29.0</td>\n",
       "      <td>3.88</td>\n",
       "      <td>29.814566</td>\n",
       "      <td>72.0</td>\n",
       "      <td>242.0</td>\n",
       "      <td>28.2</td>\n",
       "      <td>...</td>\n",
       "      <td>73.0</td>\n",
       "      <td>4.47</td>\n",
       "      <td>73.0</td>\n",
       "      <td>23.7</td>\n",
       "      <td>396.998217</td>\n",
       "      <td>1332999.0</td>\n",
       "      <td>8.2</td>\n",
       "      <td>8.2</td>\n",
       "      <td>0.414</td>\n",
       "      <td>9.6</td>\n",
       "    </tr>\n",
       "    <tr>\n",
       "      <th>2936</th>\n",
       "      <td>2.0</td>\n",
       "      <td>1</td>\n",
       "      <td>44.8</td>\n",
       "      <td>73.0</td>\n",
       "      <td>25.0</td>\n",
       "      <td>4.43</td>\n",
       "      <td>0.0</td>\n",
       "      <td>73.0</td>\n",
       "      <td>304.0</td>\n",
       "      <td>26.3</td>\n",
       "      <td>...</td>\n",
       "      <td>73.0</td>\n",
       "      <td>6.53</td>\n",
       "      <td>71.0</td>\n",
       "      <td>39.8</td>\n",
       "      <td>57.34834</td>\n",
       "      <td>125525.0</td>\n",
       "      <td>1.2</td>\n",
       "      <td>1.3</td>\n",
       "      <td>0.427</td>\n",
       "      <td>10.0</td>\n",
       "    </tr>\n",
       "  </tbody>\n",
       "</table>\n",
       "<p>2373 rows × 21 columns</p>\n",
       "</div>"
      ],
      "text/plain": [
       "0     Year Status Life expectancy  Adult Mortality infant deaths Alcohol  \\\n",
       "2     14.0      1             59.9           271.0          64.0    0.01   \n",
       "3     13.0      1             59.9           268.0          66.0    0.01   \n",
       "4     12.0      1             59.5           272.0          69.0    0.01   \n",
       "5     11.0      1             59.2           275.0          71.0    0.01   \n",
       "6     10.0      1             58.8           279.0          74.0    0.01   \n",
       "...    ...    ...              ...             ...           ...     ...   \n",
       "2925  13.0      1             58.0           399.0          25.0    6.39   \n",
       "2926  12.0      1             56.6           429.0          26.0    6.09   \n",
       "2927  11.0      1             54.9           464.0          28.0     6.0   \n",
       "2931   7.0      1             46.6            67.0          29.0    3.88   \n",
       "2936   2.0      1             44.8            73.0          25.0    4.43   \n",
       "\n",
       "0    percentage expenditure Hepatitis B Measles   BMI   ... Polio  \\\n",
       "2                 73.523582        62.0    492.0  18.6  ...  58.0   \n",
       "3                 73.219243        64.0    430.0  18.1  ...  62.0   \n",
       "4                 78.184215        67.0   2787.0  17.6  ...  67.0   \n",
       "5                  7.097109        68.0   3013.0  17.2  ...  68.0   \n",
       "6                 79.679367        66.0   1989.0  16.7  ...  66.0   \n",
       "...                     ...         ...      ...   ...  ...   ...   \n",
       "2925              10.666707        95.0      0.0   3.8  ...  95.0   \n",
       "2926              92.602336        97.0      0.0   3.3  ...  95.0   \n",
       "2927               63.75053        94.0      0.0  29.9  ...  93.0   \n",
       "2931              29.814566        72.0    242.0  28.2  ...  73.0   \n",
       "2936                    0.0        73.0    304.0  26.3  ...  73.0   \n",
       "\n",
       "0    Total expenditure Diphtheria   HIV/AIDS         GDP  Population  \\\n",
       "2                 8.18        62.0       0.1  612.696514    327582.0   \n",
       "3                 8.13        64.0       0.1  631.744976  31731688.0   \n",
       "4                 8.52        67.0       0.1     669.959   3696958.0   \n",
       "5                 7.87        68.0       0.1   63.537231   2978599.0   \n",
       "6                  9.2        66.0       0.1   553.32894   2883167.0   \n",
       "...                ...         ...       ...         ...         ...   \n",
       "2925              6.88        95.0       6.8  111.227396    155456.0   \n",
       "2926              6.69        95.0       8.8  955.648466   1471826.0   \n",
       "2927              6.31        93.0      13.3  839.927936  14386649.0   \n",
       "2931              4.47        73.0      23.7  396.998217   1332999.0   \n",
       "2936              6.53        71.0      39.8    57.34834    125525.0   \n",
       "\n",
       "0     thinness  1-19 years  thinness 5-9 years  \\\n",
       "2                     17.5                17.5   \n",
       "3                     17.7                17.7   \n",
       "4                     17.9                18.0   \n",
       "5                     18.2                18.2   \n",
       "6                     18.4                18.4   \n",
       "...                    ...                 ...   \n",
       "2925                   6.2                 6.0   \n",
       "2926                   6.5                 6.4   \n",
       "2927                   6.8                 6.7   \n",
       "2931                   8.2                 8.2   \n",
       "2936                   1.2                 1.3   \n",
       "\n",
       "0    Income composition of resources Schooling  \n",
       "2                              0.476      10.0  \n",
       "3                               0.47       9.9  \n",
       "4                              0.463       9.8  \n",
       "5                              0.454       9.5  \n",
       "6                              0.448       9.2  \n",
       "...                              ...       ...  \n",
       "2925                           0.488      10.4  \n",
       "2926                           0.464       9.8  \n",
       "2927                           0.452      10.1  \n",
       "2931                           0.414       9.6  \n",
       "2936                           0.427      10.0  \n",
       "\n",
       "[2373 rows x 21 columns]"
      ]
     },
     "metadata": {},
     "output_type": "display_data"
    }
   ],
   "source": [
    "display(anlyzr.dataset)"
   ]
  },
  {
   "cell_type": "code",
   "execution_count": 13,
   "metadata": {},
   "outputs": [
    {
     "data": {
      "text/html": [
       "<div>\n",
       "<style scoped>\n",
       "    .dataframe tbody tr th:only-of-type {\n",
       "        vertical-align: middle;\n",
       "    }\n",
       "\n",
       "    .dataframe tbody tr th {\n",
       "        vertical-align: top;\n",
       "    }\n",
       "\n",
       "    .dataframe thead th {\n",
       "        text-align: right;\n",
       "    }\n",
       "</style>\n",
       "<table border=\"1\" class=\"dataframe\">\n",
       "  <thead>\n",
       "    <tr style=\"text-align: right;\">\n",
       "      <th></th>\n",
       "      <th>Year</th>\n",
       "      <th>Status</th>\n",
       "      <th>Life expectancy</th>\n",
       "      <th>Adult Mortality</th>\n",
       "      <th>Alcohol</th>\n",
       "      <th>percentage expenditure</th>\n",
       "      <th>Hepatitis B</th>\n",
       "      <th>Measles</th>\n",
       "      <th>BMI</th>\n",
       "      <th>under-five deaths</th>\n",
       "      <th>Polio</th>\n",
       "      <th>Total expenditure</th>\n",
       "      <th>Diphtheria</th>\n",
       "      <th>HIV/AIDS</th>\n",
       "      <th>GDP</th>\n",
       "      <th>Population</th>\n",
       "      <th>thinness  1-19 years</th>\n",
       "      <th>thinness 5-9 years</th>\n",
       "      <th>Income composition of resources</th>\n",
       "      <th>Schooling</th>\n",
       "    </tr>\n",
       "  </thead>\n",
       "  <tbody>\n",
       "    <tr>\n",
       "      <th>2</th>\n",
       "      <td>14.0</td>\n",
       "      <td>1</td>\n",
       "      <td>59.9</td>\n",
       "      <td>271.0</td>\n",
       "      <td>0.01</td>\n",
       "      <td>73.523582</td>\n",
       "      <td>62.0</td>\n",
       "      <td>492.0</td>\n",
       "      <td>18.6</td>\n",
       "      <td>86.0</td>\n",
       "      <td>58.0</td>\n",
       "      <td>8.18</td>\n",
       "      <td>62.0</td>\n",
       "      <td>0.1</td>\n",
       "      <td>612.696514</td>\n",
       "      <td>327582.0</td>\n",
       "      <td>17.5</td>\n",
       "      <td>17.5</td>\n",
       "      <td>0.476</td>\n",
       "      <td>10.0</td>\n",
       "    </tr>\n",
       "    <tr>\n",
       "      <th>3</th>\n",
       "      <td>13.0</td>\n",
       "      <td>1</td>\n",
       "      <td>59.9</td>\n",
       "      <td>268.0</td>\n",
       "      <td>0.01</td>\n",
       "      <td>73.219243</td>\n",
       "      <td>64.0</td>\n",
       "      <td>430.0</td>\n",
       "      <td>18.1</td>\n",
       "      <td>89.0</td>\n",
       "      <td>62.0</td>\n",
       "      <td>8.13</td>\n",
       "      <td>64.0</td>\n",
       "      <td>0.1</td>\n",
       "      <td>631.744976</td>\n",
       "      <td>31731688.0</td>\n",
       "      <td>17.7</td>\n",
       "      <td>17.7</td>\n",
       "      <td>0.47</td>\n",
       "      <td>9.9</td>\n",
       "    </tr>\n",
       "    <tr>\n",
       "      <th>4</th>\n",
       "      <td>12.0</td>\n",
       "      <td>1</td>\n",
       "      <td>59.5</td>\n",
       "      <td>272.0</td>\n",
       "      <td>0.01</td>\n",
       "      <td>78.184215</td>\n",
       "      <td>67.0</td>\n",
       "      <td>2787.0</td>\n",
       "      <td>17.6</td>\n",
       "      <td>93.0</td>\n",
       "      <td>67.0</td>\n",
       "      <td>8.52</td>\n",
       "      <td>67.0</td>\n",
       "      <td>0.1</td>\n",
       "      <td>669.959</td>\n",
       "      <td>3696958.0</td>\n",
       "      <td>17.9</td>\n",
       "      <td>18.0</td>\n",
       "      <td>0.463</td>\n",
       "      <td>9.8</td>\n",
       "    </tr>\n",
       "    <tr>\n",
       "      <th>5</th>\n",
       "      <td>11.0</td>\n",
       "      <td>1</td>\n",
       "      <td>59.2</td>\n",
       "      <td>275.0</td>\n",
       "      <td>0.01</td>\n",
       "      <td>7.097109</td>\n",
       "      <td>68.0</td>\n",
       "      <td>3013.0</td>\n",
       "      <td>17.2</td>\n",
       "      <td>97.0</td>\n",
       "      <td>68.0</td>\n",
       "      <td>7.87</td>\n",
       "      <td>68.0</td>\n",
       "      <td>0.1</td>\n",
       "      <td>63.537231</td>\n",
       "      <td>2978599.0</td>\n",
       "      <td>18.2</td>\n",
       "      <td>18.2</td>\n",
       "      <td>0.454</td>\n",
       "      <td>9.5</td>\n",
       "    </tr>\n",
       "    <tr>\n",
       "      <th>6</th>\n",
       "      <td>10.0</td>\n",
       "      <td>1</td>\n",
       "      <td>58.8</td>\n",
       "      <td>279.0</td>\n",
       "      <td>0.01</td>\n",
       "      <td>79.679367</td>\n",
       "      <td>66.0</td>\n",
       "      <td>1989.0</td>\n",
       "      <td>16.7</td>\n",
       "      <td>102.0</td>\n",
       "      <td>66.0</td>\n",
       "      <td>9.2</td>\n",
       "      <td>66.0</td>\n",
       "      <td>0.1</td>\n",
       "      <td>553.32894</td>\n",
       "      <td>2883167.0</td>\n",
       "      <td>18.4</td>\n",
       "      <td>18.4</td>\n",
       "      <td>0.448</td>\n",
       "      <td>9.2</td>\n",
       "    </tr>\n",
       "    <tr>\n",
       "      <th>...</th>\n",
       "      <td>...</td>\n",
       "      <td>...</td>\n",
       "      <td>...</td>\n",
       "      <td>...</td>\n",
       "      <td>...</td>\n",
       "      <td>...</td>\n",
       "      <td>...</td>\n",
       "      <td>...</td>\n",
       "      <td>...</td>\n",
       "      <td>...</td>\n",
       "      <td>...</td>\n",
       "      <td>...</td>\n",
       "      <td>...</td>\n",
       "      <td>...</td>\n",
       "      <td>...</td>\n",
       "      <td>...</td>\n",
       "      <td>...</td>\n",
       "      <td>...</td>\n",
       "      <td>...</td>\n",
       "      <td>...</td>\n",
       "    </tr>\n",
       "    <tr>\n",
       "      <th>2925</th>\n",
       "      <td>13.0</td>\n",
       "      <td>1</td>\n",
       "      <td>58.0</td>\n",
       "      <td>399.0</td>\n",
       "      <td>6.39</td>\n",
       "      <td>10.666707</td>\n",
       "      <td>95.0</td>\n",
       "      <td>0.0</td>\n",
       "      <td>3.8</td>\n",
       "      <td>36.0</td>\n",
       "      <td>95.0</td>\n",
       "      <td>6.88</td>\n",
       "      <td>95.0</td>\n",
       "      <td>6.8</td>\n",
       "      <td>111.227396</td>\n",
       "      <td>155456.0</td>\n",
       "      <td>6.2</td>\n",
       "      <td>6.0</td>\n",
       "      <td>0.488</td>\n",
       "      <td>10.4</td>\n",
       "    </tr>\n",
       "    <tr>\n",
       "      <th>2926</th>\n",
       "      <td>12.0</td>\n",
       "      <td>1</td>\n",
       "      <td>56.6</td>\n",
       "      <td>429.0</td>\n",
       "      <td>6.09</td>\n",
       "      <td>92.602336</td>\n",
       "      <td>97.0</td>\n",
       "      <td>0.0</td>\n",
       "      <td>3.3</td>\n",
       "      <td>39.0</td>\n",
       "      <td>95.0</td>\n",
       "      <td>6.69</td>\n",
       "      <td>95.0</td>\n",
       "      <td>8.8</td>\n",
       "      <td>955.648466</td>\n",
       "      <td>1471826.0</td>\n",
       "      <td>6.5</td>\n",
       "      <td>6.4</td>\n",
       "      <td>0.464</td>\n",
       "      <td>9.8</td>\n",
       "    </tr>\n",
       "    <tr>\n",
       "      <th>2927</th>\n",
       "      <td>11.0</td>\n",
       "      <td>1</td>\n",
       "      <td>54.9</td>\n",
       "      <td>464.0</td>\n",
       "      <td>6.0</td>\n",
       "      <td>63.75053</td>\n",
       "      <td>94.0</td>\n",
       "      <td>0.0</td>\n",
       "      <td>29.9</td>\n",
       "      <td>42.0</td>\n",
       "      <td>93.0</td>\n",
       "      <td>6.31</td>\n",
       "      <td>93.0</td>\n",
       "      <td>13.3</td>\n",
       "      <td>839.927936</td>\n",
       "      <td>14386649.0</td>\n",
       "      <td>6.8</td>\n",
       "      <td>6.7</td>\n",
       "      <td>0.452</td>\n",
       "      <td>10.1</td>\n",
       "    </tr>\n",
       "    <tr>\n",
       "      <th>2931</th>\n",
       "      <td>7.0</td>\n",
       "      <td>1</td>\n",
       "      <td>46.6</td>\n",
       "      <td>67.0</td>\n",
       "      <td>3.88</td>\n",
       "      <td>29.814566</td>\n",
       "      <td>72.0</td>\n",
       "      <td>242.0</td>\n",
       "      <td>28.2</td>\n",
       "      <td>46.0</td>\n",
       "      <td>73.0</td>\n",
       "      <td>4.47</td>\n",
       "      <td>73.0</td>\n",
       "      <td>23.7</td>\n",
       "      <td>396.998217</td>\n",
       "      <td>1332999.0</td>\n",
       "      <td>8.2</td>\n",
       "      <td>8.2</td>\n",
       "      <td>0.414</td>\n",
       "      <td>9.6</td>\n",
       "    </tr>\n",
       "    <tr>\n",
       "      <th>2936</th>\n",
       "      <td>2.0</td>\n",
       "      <td>1</td>\n",
       "      <td>44.8</td>\n",
       "      <td>73.0</td>\n",
       "      <td>4.43</td>\n",
       "      <td>0.0</td>\n",
       "      <td>73.0</td>\n",
       "      <td>304.0</td>\n",
       "      <td>26.3</td>\n",
       "      <td>40.0</td>\n",
       "      <td>73.0</td>\n",
       "      <td>6.53</td>\n",
       "      <td>71.0</td>\n",
       "      <td>39.8</td>\n",
       "      <td>57.34834</td>\n",
       "      <td>125525.0</td>\n",
       "      <td>1.2</td>\n",
       "      <td>1.3</td>\n",
       "      <td>0.427</td>\n",
       "      <td>10.0</td>\n",
       "    </tr>\n",
       "  </tbody>\n",
       "</table>\n",
       "<p>2373 rows × 20 columns</p>\n",
       "</div>"
      ],
      "text/plain": [
       "0     Year Status Life expectancy  Adult Mortality Alcohol  \\\n",
       "2     14.0      1             59.9           271.0    0.01   \n",
       "3     13.0      1             59.9           268.0    0.01   \n",
       "4     12.0      1             59.5           272.0    0.01   \n",
       "5     11.0      1             59.2           275.0    0.01   \n",
       "6     10.0      1             58.8           279.0    0.01   \n",
       "...    ...    ...              ...             ...     ...   \n",
       "2925  13.0      1             58.0           399.0    6.39   \n",
       "2926  12.0      1             56.6           429.0    6.09   \n",
       "2927  11.0      1             54.9           464.0     6.0   \n",
       "2931   7.0      1             46.6            67.0    3.88   \n",
       "2936   2.0      1             44.8            73.0    4.43   \n",
       "\n",
       "0    percentage expenditure Hepatitis B Measles   BMI  under-five deaths   \\\n",
       "2                 73.523582        62.0    492.0  18.6               86.0   \n",
       "3                 73.219243        64.0    430.0  18.1               89.0   \n",
       "4                 78.184215        67.0   2787.0  17.6               93.0   \n",
       "5                  7.097109        68.0   3013.0  17.2               97.0   \n",
       "6                 79.679367        66.0   1989.0  16.7              102.0   \n",
       "...                     ...         ...      ...   ...                ...   \n",
       "2925              10.666707        95.0      0.0   3.8               36.0   \n",
       "2926              92.602336        97.0      0.0   3.3               39.0   \n",
       "2927               63.75053        94.0      0.0  29.9               42.0   \n",
       "2931              29.814566        72.0    242.0  28.2               46.0   \n",
       "2936                    0.0        73.0    304.0  26.3               40.0   \n",
       "\n",
       "0    Polio Total expenditure Diphtheria   HIV/AIDS         GDP  Population  \\\n",
       "2     58.0              8.18        62.0       0.1  612.696514    327582.0   \n",
       "3     62.0              8.13        64.0       0.1  631.744976  31731688.0   \n",
       "4     67.0              8.52        67.0       0.1     669.959   3696958.0   \n",
       "5     68.0              7.87        68.0       0.1   63.537231   2978599.0   \n",
       "6     66.0               9.2        66.0       0.1   553.32894   2883167.0   \n",
       "...    ...               ...         ...       ...         ...         ...   \n",
       "2925  95.0              6.88        95.0       6.8  111.227396    155456.0   \n",
       "2926  95.0              6.69        95.0       8.8  955.648466   1471826.0   \n",
       "2927  93.0              6.31        93.0      13.3  839.927936  14386649.0   \n",
       "2931  73.0              4.47        73.0      23.7  396.998217   1332999.0   \n",
       "2936  73.0              6.53        71.0      39.8    57.34834    125525.0   \n",
       "\n",
       "0     thinness  1-19 years  thinness 5-9 years  \\\n",
       "2                     17.5                17.5   \n",
       "3                     17.7                17.7   \n",
       "4                     17.9                18.0   \n",
       "5                     18.2                18.2   \n",
       "6                     18.4                18.4   \n",
       "...                    ...                 ...   \n",
       "2925                   6.2                 6.0   \n",
       "2926                   6.5                 6.4   \n",
       "2927                   6.8                 6.7   \n",
       "2931                   8.2                 8.2   \n",
       "2936                   1.2                 1.3   \n",
       "\n",
       "0    Income composition of resources Schooling  \n",
       "2                              0.476      10.0  \n",
       "3                               0.47       9.9  \n",
       "4                              0.463       9.8  \n",
       "5                              0.454       9.5  \n",
       "6                              0.448       9.2  \n",
       "...                              ...       ...  \n",
       "2925                           0.488      10.4  \n",
       "2926                           0.464       9.8  \n",
       "2927                           0.452      10.1  \n",
       "2931                           0.414       9.6  \n",
       "2936                           0.427      10.0  \n",
       "\n",
       "[2373 rows x 20 columns]"
      ]
     },
     "execution_count": 13,
     "metadata": {},
     "output_type": "execute_result"
    }
   ],
   "source": [
    "anlyzr.dataset.drop(columns=[\"infant deaths\"])"
   ]
  },
  {
   "cell_type": "code",
   "execution_count": 23,
   "metadata": {},
   "outputs": [
    {
     "data": {
      "text/plain": [
       "Index(['Year', 'Status', 'Life expectancy ', 'Adult Mortality',\n",
       "       'infant deaths', 'Alcohol', 'percentage expenditure', 'Hepatitis B',\n",
       "       'Measles ', ' BMI ', 'under-five deaths ', 'Polio', 'Total expenditure',\n",
       "       'Diphtheria ', ' HIV/AIDS', 'GDP', 'Population',\n",
       "       ' thinness  1-19 years', ' thinness 5-9 years',\n",
       "       'Income composition of resources', 'Schooling'],\n",
       "      dtype='object', name=0)"
      ]
     },
     "execution_count": 23,
     "metadata": {},
     "output_type": "execute_result"
    }
   ],
   "source": [
    "anlyzr.dataset.columns\n",
    "\"Life expectancy\" < 42\n",
    "\"Adult Mortality\" > 500\n",
    "\"Hepatitis B\" < 50\n",
    "\"Polio\" < 40\n",
    "\"Total expenditure\" > 15,\n",
    "\"Diphtheria\" < 40\n",
    "\" thinness  1-19 years\" > 20"
   ]
  }
 ],
 "metadata": {
  "kernelspec": {
   "display_name": "assgn_2_env",
   "language": "python",
   "name": "python3"
  },
  "language_info": {
   "codemirror_mode": {
    "name": "ipython",
    "version": 3
   },
   "file_extension": ".py",
   "mimetype": "text/x-python",
   "name": "python",
   "nbconvert_exporter": "python",
   "pygments_lexer": "ipython3",
   "version": "3.10.13"
  },
  "orig_nbformat": 4
 },
 "nbformat": 4,
 "nbformat_minor": 2
}
