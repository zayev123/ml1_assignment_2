{
 "cells": [
  {
   "cell_type": "code",
   "execution_count": null,
   "metadata": {},
   "outputs": [],
   "source": [
    "# Owais Raza 29637\n",
    "# Mir Bilal 29638"
   ]
  },
  {
   "cell_type": "code",
   "execution_count": 3,
   "metadata": {},
   "outputs": [],
   "source": [
    "import numpy as np\n",
    "import matplotlib.pyplot as plt\n",
    "import pandas as pd\n",
    "import sklearn\n",
    "from sklearn.model_selection import train_test_split\n",
    "from sklearn.preprocessing import StandardScaler\n",
    "from sklearn.neighbors import KNeighborsRegressor\n",
    "from sklearn.metrics import confusion_matrix,accuracy_score\n",
    "import seaborn as sns\n",
    "from sklearn import preprocessing\n",
    "from sklearn.preprocessing import LabelEncoder\n",
    "from sklearn.model_selection import cross_val_score\n",
    "from sklearn.model_selection import KFold\n",
    "from sklearn.feature_selection import mutual_info_regression\n",
    "import copy\n",
    "from sklearn.feature_selection import RFE\n",
    "from sklearn.feature_selection import SelectKBest\n",
    "from sklearn.feature_selection import f_classif\n",
    "import statistics\n",
    "import plotly.graph_objs as go\n",
    "from sklearn.decomposition import PCA\n",
    "from sklearn.metrics import mean_squared_error, r2_score\n",
    "import statsmodels.api as sm\n"
   ]
  },
  {
   "cell_type": "code",
   "execution_count": 8,
   "metadata": {},
   "outputs": [],
   "source": [
    "class DataAnalyzer:\n",
    "    def __init__(self):\n",
    "        file_path = 'AppliancesEnergyPrediction.csv'\n",
    "\n",
    "        self.dataset = pd.read_csv(file_path, header=None)\n",
    "        self.dataset.columns = self.dataset.iloc[0]\n",
    "\n",
    "        self.dataset = self.dataset.drop(0)\n",
    "        self.dataset = self.dataset.drop(self.dataset.columns[0], axis=1)\n",
    "        self.original_dataset = self.dataset\n",
    "        self.fill_nan_vals()\n",
    "        # print(self.dataset.shape[1])\n",
    "        self.dataset = self.dataset.dropna(axis=1)\n",
    "        # print(self.dataset.shape[1])\n",
    "        self.convert_to_float()\n",
    "        self.remove_outliers()\n",
    "        self.dataset = self.dataset.drop(columns=['lights'])\n",
    "        self.normalize_df_by_max()\n",
    "\n",
    "  \n",
    "    def fill_nan_vals(self):\n",
    "        for column in self.dataset.columns:\n",
    "            if self.dataset[column].dtype == 'object':  # Non-numerical column\n",
    "                mode_val = self.dataset[column].mode()[0]\n",
    "                self.dataset[column] = self.dataset[column].fillna(mode_val)\n",
    "            else:  # Numerical column\n",
    "                mean_val = self.dataset[column].mean()\n",
    "                self.dataset[column] = self.dataset[column].fillna(mean_val)\n",
    "\n",
    "    def drop_nan_vals(self):\n",
    "        self.dataset = self.dataset.dropna()\n",
    "        \n",
    "    def convert_to_float(self):\n",
    "        for column in self.dataset.columns:\n",
    "            self.dataset.loc[:, column] = self.dataset[column].astype(float)\n",
    "\n",
    "\n",
    "    def show_boxplots(self):\n",
    "        fig, axs = plt.subplots(ncols=7, nrows=4, figsize=(20, 10))\n",
    "        index = 0\n",
    "        axs = axs.flatten()\n",
    "        for k,v in self.dataset.items():\n",
    "            sns.boxplot(y=k, data=self.dataset, ax=axs[index])\n",
    "            index += 1\n",
    "        plt.tight_layout(pad=0.4, w_pad=0.5, h_pad=5.0)\n",
    "\n",
    "    def show_outlier_percs(self):\n",
    "        for k, v in self.dataset.items():\n",
    "            q1 = v.quantile(0.25)\n",
    "            q3 = v.quantile(0.75)\n",
    "            irq = q3 - q1\n",
    "            v_col = v[(v <= q1 - 1.5 * irq) | (v >= q3 + 1.5 * irq)]\n",
    "            perc = np.shape(v_col)[0] * 100.0 / np.shape(self.dataset)[0]\n",
    "            print(\"Column %s outliers = %.2f%%\" % (k, perc))\n",
    "\n",
    "    def remove_outliers(self):\n",
    "        for col in self.dataset.columns:\n",
    "            q1 = self.dataset[col].quantile(0.25)\n",
    "            q3 = self.dataset[col].quantile(0.75)\n",
    "            iqr = q3 - q1\n",
    "            lower_bound = q1 - 1.5 * iqr\n",
    "            upper_bound = q3 + 1.5 * iqr\n",
    "            self.dataset = self.dataset[(self.dataset[col] >= lower_bound) & (self.dataset[col] <= upper_bound)]\n",
    "        return self.dataset\n",
    "\n",
    "    def normalize_df_by_max(self):\n",
    "        columns_to_exclude=[]\n",
    "        normalized_df = self.dataset.copy()\n",
    "        for column in self.dataset.columns:\n",
    "            if column not in columns_to_exclude:\n",
    "                max_abs_value = abs(self.dataset[column]).max()\n",
    "                normalized_df[column] = self.dataset[column] / max_abs_value\n",
    "\n",
    "        self.dataset = normalized_df\n",
    "        return self.dataset\n",
    "\n",
    "    def normalize_df_by_mean(self):\n",
    "        sc = StandardScaler()\n",
    "        self.X_train = sc.fit_transform(self.X_train)\n",
    "        self.X_test_final = sc.transform(self.X_test_final)\n",
    "        if self.X_cv is not None:\n",
    "            self.X_cv = sc.fit_transform(self.X_cv)\n",
    "        return(self.X_train, self.X_test_final, self.X_cv)\n",
    "    \n",
    "    def show_histplots(self):\n",
    "        fig, axs = plt.subplots(ncols=7, nrows=5, figsize=(20, 10))\n",
    "        index = 0\n",
    "        axs = axs.flatten()\n",
    "        for k,v in self.dataset.items():\n",
    "            sns.histplot(v, ax=axs[index])\n",
    "            index += 1\n",
    "        plt.tight_layout(pad=0.4, w_pad=0.5, h_pad=5.0)\n",
    "\n",
    "    def show_heat_map(self, dataset = None):\n",
    "        if dataset is None:\n",
    "            corr_matrix = self.dataset.corr()\n",
    "        else:\n",
    "            corr_matrix = dataset.corr()\n",
    "        plt.figure(figsize=(20, 20))\n",
    "        sns.heatmap(corr_matrix, annot=True, cmap='coolwarm', fmt=\".2f\")\n",
    "        plt.title(\"Correlation Matrix\")\n",
    "        plt.show()\n",
    "\n",
    "    def perform_filter_methods(self):\n",
    "        data = copy.deepcopy(self.dataset)\n",
    "        X = copy.deepcopy(data).drop(columns=['Appliances'])  # Features\n",
    "        print(\"total features = \", len(X.columns))\n",
    "        y = copy.deepcopy(data['Appliances']).astype(float) \n",
    "        # Calculate Mutual Information scores\n",
    "        mi_scores = mutual_info_regression(X, y)\n",
    "        # Select features with MI score > 0.5\n",
    "        selected_features = X.columns[mi_scores > 0.05]\n",
    "        print(mi_scores)\n",
    "        print(\"selected features with high mutual information with the target = \", len(selected_features))\n",
    "        # Calculate correlation matrix\n",
    "        corr_matrix = X[selected_features].corr().abs()\n",
    "        copy_ds = copy.deepcopy(data[selected_features])\n",
    "        # Remove one of two highly correlated features\n",
    "        to_drop = set()\n",
    "        dropped_columns = {}\n",
    "        for i in range(len(corr_matrix.columns)):\n",
    "            if i not in dropped_columns:\n",
    "                for j in range(len(corr_matrix.columns)):\n",
    "                    if abs(corr_matrix.iloc[i, j]) > 0.8 and i!=j and j not in dropped_columns and i not in dropped_columns and i!=j:\n",
    "                        \n",
    "                        colname_i = corr_matrix.columns[i]\n",
    "                        colname_j = corr_matrix.columns[j]\n",
    "                        # Calculate the Mutual Information score of each feature with the target variable\n",
    "                        mi_i = mutual_info_regression(X[colname_i].values.reshape(-1, 1), y)[0]\n",
    "                        mi_j = mutual_info_regression(X[colname_j].values.reshape(-1, 1), y)[0]\n",
    "                        # Keep the feature with higher Mutual Information score\n",
    "                        if mi_i > mi_j:\n",
    "                            to_drop.add(colname_j)\n",
    "                            dropped_columns[j] = colname_j\n",
    "                        else:\n",
    "                            to_drop.add(colname_i)\n",
    "                            dropped_columns[i] = colname_i\n",
    "        final_selected_features = selected_features.drop(to_drop)\n",
    "        print(\"final selected features after removing one of two correlated features = \", len(final_selected_features))\n",
    "        self.dataset = self.dataset[final_selected_features]\n",
    "        self.dataset[\"Appliances\"] = data[\"Appliances\"]\n",
    "        self.show_heat_map()\n",
    "        return self.dataset\n",
    "    \n",
    "    def perform_wrapper_method(self):\n",
    "        feature_scores = []\n",
    "        feature_scores_dict = {}\n",
    "        total_num_of_columns = len(self.X.columns)\n",
    "        for i in range(1,total_num_of_columns+1):\n",
    "            newAnlyzr = DataAnalyzer()\n",
    "            newAnlyzr.get_x_and_Y()\n",
    "            (best_avg_score, scores) = newAnlyzr.perform_kfold_cv(num_of_columns=i)\n",
    "            mean_score = newAnlyzr.get_accuracy()\n",
    "            feature_scores.append((i, mean_score))\n",
    "            feature_scores_dict[i] = mean_score\n",
    "        self.feature_scores = feature_scores\n",
    "        additional_feature_penalty = -0.05\n",
    "        score_weight = 0.95\n",
    "        adjusted_scores = []\n",
    "        best_num_of_features = 1\n",
    "        best_adjusted_score = 0\n",
    "        for (j, mn_score) in feature_scores:\n",
    "            adjusted_score = mn_score*score_weight + j*additional_feature_penalty/total_num_of_columns\n",
    "            adjusted_scores.append((j, adjusted_score))\n",
    "            if adjusted_score > best_adjusted_score:\n",
    "                best_adjusted_score = adjusted_score\n",
    "                best_num_of_features = j\n",
    "        best_score = feature_scores_dict[best_num_of_features]\n",
    "\n",
    "        return {\n",
    "            \"best_num_of_features\": best_num_of_features,\n",
    "            \"best_score\": best_score\n",
    "        }\n",
    "    \n",
    "    def plot_wrapper_scores(self):\n",
    "        x_values, y_values = zip(*self.feature_scores)\n",
    "        # Create a Plotly trace\n",
    "        trace = go.Scatter(x=x_values, y=y_values, mode='lines+markers')\n",
    "\n",
    "        # Create a Plotly layout\n",
    "        layout = go.Layout(\n",
    "            title='Wrapper Method Feature Scores',\n",
    "            xaxis=dict(title='Number of Features'),\n",
    "            yaxis=dict(title='Accuracy')\n",
    "        )\n",
    "\n",
    "        # Create a Plotly figure\n",
    "        fig = go.Figure(data=[trace], layout=layout)\n",
    "\n",
    "        # Display the plot\n",
    "        fig.show()\n",
    "\n",
    "    def perform_pca(self, n_components=None):\n",
    "        # Standardize the data\n",
    "        scaler = StandardScaler()\n",
    "        data = self.X\n",
    "        standardized_data = scaler.fit_transform(data)\n",
    "\n",
    "        # Create PCA object\n",
    "        pca = PCA(n_components=n_components)\n",
    "\n",
    "        # Fit and transform the data\n",
    "        pca_data = pca.fit_transform(standardized_data)\n",
    "\n",
    "        # Create a DataFrame for the PCA results\n",
    "        pca_columns = [f\"PC{i+1}\" for i in range(pca_data.shape[1])]\n",
    "        pca_df = pd.DataFrame(data=pca_data, columns=pca_columns)\n",
    "\n",
    "        # Concatenate with original dataset\n",
    "        self.X = pca_df\n",
    "\n",
    "    def plot_variations(self):\n",
    "        min_max_scaler = preprocessing.MinMaxScaler()\n",
    "        column_sels = self.dataset.columns\n",
    "        x = self.dataset.loc[:,column_sels]\n",
    "        y = self.dataset['Appliances']\n",
    "        # x = pd.DataFrame(data=min_max_scaler.fit_transform(x), columns=column_sels)\n",
    "        fig, axs = plt.subplots(ncols=4, nrows=5, figsize=(20, 10))\n",
    "        index = 0\n",
    "        axs = axs.flatten()\n",
    "        for i, k in enumerate(column_sels):\n",
    "            sns.regplot(y=y, x=x[k], ax=axs[i])\n",
    "        plt.tight_layout(pad=0.4, w_pad=0.5, h_pad=5.0)\n",
    "    \n",
    "    def get_x_and_Y(self):\n",
    "        self.X = self.dataset.drop('Appliances', axis=1)  # Assuming 'p' is the target variable\n",
    "        self.y = self.dataset['Appliances']\n",
    "        return (self.X, self.y)\n",
    "    \n",
    "    def perform_manual_splitting_cv(self):\n",
    "        # First split to get training set and first test set\n",
    "        self.X_train, X_temp, self.y_train, y_temp = train_test_split(self.X, self.y, test_size=0.4, random_state=0)\n",
    "        self.y_train = self.y_train.astype(float)\n",
    "        y_temp =  y_temp.astype(float)\n",
    "\n",
    "        # Second split to further split the temporary test set into the second test set\n",
    "        self.X_cv, self.X_test_final, self.y_cv, self.y_test_final = train_test_split(X_temp, y_temp, test_size=0.5, random_state=0)\n",
    "        self.y_cv = self.y_cv.astype(float)\n",
    "        self.y_test_final = self.y_test_final.astype(float)\n",
    "\n",
    "    def perform_manual_splitting_without_cv(self):\n",
    "        # First split to get training set and first test set\n",
    "        self.X_train, self.X_test_final, y_train, y_temp = train_test_split(self.X, self.y, test_size=0.2, random_state=0)\n",
    "        self.y_train = y_train.astype(float)\n",
    "        self.y_test_final = y_temp.astype(float)\n",
    "\n",
    "    def perform_knn_without_cv(self):\n",
    "        self.classifier = KNeighborsRegressor(n_neighbors = 20, metric = 'minkowski', p = 2.7)\n",
    "        self.classifier.fit(self.X_train, self.y_train)\n",
    "        y_pred1 = self.classifier.predict(self.X_test_final)\n",
    "        rmse = mean_squared_error(self.y_test_final,y_pred1)  # Calculate RMSE\n",
    "        target_range = np.max(self.y) - np.min(self.y)  # Calculate the range of the target variable\n",
    "        accuracy_percentage = (1 - (rmse / target_range)) * 100  # Calculate accuracy as a percentage\n",
    "        self.ac_final = accuracy_percentage\n",
    "        return self.ac_final\n",
    "        \n",
    "\n",
    "    def perform_knn(self):\n",
    "        self.classifier = KNeighborsRegressor(n_neighbors = 20, metric = 'minkowski', p = 2.7)\n",
    "        self.classifier.fit(self.X_train, self.y_train)\n",
    "        y_pred1 = self.classifier.predict(self.X_cv)\n",
    "        self.ac_cv = mean_squared_error(self.y_cv,y_pred1)\n",
    "        return self.ac_cv\n",
    "\n",
    "    def get_accuracy(self):\n",
    "        y_pred_final = self.classifier.predict(self.X_test_final)\n",
    "        # self.ac_final = mean_squared_error(self.y_test_final,y_pred_final)\n",
    "        rmse = mean_squared_error(self.y_test_final,y_pred_final)  # Calculate RMSE\n",
    "        target_range = np.max(self.y) - np.min(self.y)  # Calculate the range of the target variable\n",
    "        accuracy_percentage = (1 - (rmse / target_range)) * 100  # Calculate accuracy as a percentage\n",
    "        self.ac_final = accuracy_percentage\n",
    "        return self.ac_final\n",
    "\n",
    "    \n",
    "    def perform_kfold_cv(self, num_of_columns = None):\n",
    "        X_train, X_test_final, y_train, y_test_final = train_test_split(self.X, self.y, test_size=0.2, random_state=0)\n",
    "        if num_of_columns:\n",
    "            X_train = copy.deepcopy(X_train.iloc[:, :num_of_columns])\n",
    "            X_test_final = copy.deepcopy(X_test_final.iloc[:, :num_of_columns])\n",
    "        self.X_train = X_train\n",
    "        self.y_train = y_train.astype(float)\n",
    "        self.X_test_final = X_test_final.reindex(X_train.columns, axis=1)\n",
    "        self.y_test_final = y_test_final.astype(float)\n",
    "        classifier = KNeighborsRegressor(n_neighbors = 40, metric = 'minkowski', p = 2.7)\n",
    "\n",
    "        # Perform k-fold cross-validation\n",
    "        kf = KFold(n_splits=5, shuffle=True, random_state=0)\n",
    "\n",
    "        scores = []\n",
    "        best_model = None\n",
    "        best_score = 0\n",
    "\n",
    "        for train_index, val_index in kf.split(X_train):\n",
    "            X_train_fold, X_val_fold = X_train.iloc[train_index], X_train.iloc[val_index]\n",
    "            y_train_fold, y_val_fold = y_train.iloc[train_index].astype(float), y_train.iloc[val_index].astype(float)\n",
    "\n",
    "            # Train the model on the training fold\n",
    "            classifier.fit(X_train_fold, y_train_fold)\n",
    "\n",
    "            # Evaluate the model on the validation fold\n",
    "            y_val_pred = classifier.predict(X_val_fold)\n",
    "            rmse = mean_squared_error(y_val_fold, y_val_pred)\n",
    "            target_range = np.max(self.y) - np.min(self.y)  # Calculate the range of the target variable\n",
    "            accuracy_percentage = (1 - (rmse / target_range)) * 100  # Calculate accuracy as a percentage\n",
    "\n",
    "            # Update the best model if the current model has a better average performance\n",
    "            if accuracy_percentage > best_score:\n",
    "                best_score = accuracy_percentage\n",
    "                best_model = classifier\n",
    "            scores.append(accuracy_percentage)\n",
    "        \n",
    "        self.classifier = best_model\n",
    "        return(best_score, scores)\n",
    "\n",
    "class Master:\n",
    "    def __init__(self):\n",
    "        self.results = {}\n",
    "        \n",
    "    def organize_results(self):\n",
    "        items = []\n",
    "        for k, v in self.results.items():\n",
    "            print(k, v)\n",
    "            if isinstance(v, dict):\n",
    "                for xk, xv in v.items():\n",
    "                    new_x_key = xk\n",
    "                    items.append((new_x_key, xv))\n",
    "            else:\n",
    "                new_key = k\n",
    "                items.append((new_key, v))\n",
    "        r_items = dict(items)\n",
    "        df = pd.DataFrame({'method': list(r_items.keys()), 'result': list(r_items.values())})\n",
    "        return df\n",
    "\n",
    "    def run_without_cv(self):\n",
    "        anlyzr = DataAnalyzer()\n",
    "        anlyzr.get_x_and_Y()\n",
    "        anlyzr.perform_manual_splitting_without_cv()\n",
    "        rslts = anlyzr.perform_knn_without_cv()\n",
    "        self.results[\"run without cv\"] = rslts\n",
    "\n",
    "    def run_with_cv(self):\n",
    "        anlyzr = DataAnalyzer()\n",
    "        anlyzr.get_x_and_Y()\n",
    "        anlyzr.perform_manual_splitting_cv()\n",
    "        anlyzr.perform_knn()\n",
    "        self.results[\"run with cv\"] = anlyzr.get_accuracy()\n",
    "\n",
    "    def run_with_kfold(self):\n",
    "        anlyzr = DataAnalyzer()\n",
    "        anlyzr.get_x_and_Y()\n",
    "        (best_avg_score, scores) = anlyzr.perform_kfold_cv()\n",
    "        self.results[\"after_k_fold_run\"] = {\n",
    "            \"best kfold cv score\": best_avg_score,\n",
    "            \"scores\": scores,\n",
    "            \"final kfold score on test dataset\": anlyzr.get_accuracy()\n",
    "        }\n",
    "\n",
    "    def run_with_filter(self):\n",
    "        # Implement feature selection using filter method (e.g., correlation)\n",
    "        anlyzr = DataAnalyzer()\n",
    "        anlyzr.perform_filter_methods()\n",
    "        anlyzr.get_x_and_Y()\n",
    "        anlyzr.perform_manual_splitting_cv()\n",
    "        anlyzr.perform_knn()\n",
    "        self.results[\"with_filter_method\"] = anlyzr.get_accuracy()\n",
    "\n",
    "    def run_with_wrapper(self):\n",
    "        anlyzr = DataAnalyzer()\n",
    "        anlyzr.get_x_and_Y()\n",
    "        anlyzr.perform_manual_splitting_cv()\n",
    "        self.results = anlyzr.perform_wrapper_method()\n",
    "        anlyzr.plot_wrapper_scores()\n",
    "\n",
    "    def run_with_pca(self):\n",
    "        # Implement feature selection using PCA\n",
    "        anlyzr = DataAnalyzer()\n",
    "        anlyzr.get_x_and_Y()\n",
    "        anlyzr.perform_pca(n_components=2)\n",
    "        anlyzr.perform_manual_splitting_cv()\n",
    "        anlyzr.perform_knn()\n",
    "        self.results[\"with_pca\"] = anlyzr.get_accuracy()\n",
    "\n",
    "    def run_with_ols(self):\n",
    "        anlyzr = DataAnalyzer()\n",
    "        anlyzr.get_x_and_Y()\n",
    "        anlyzr.perform_manual_splitting_cv()\n",
    "\n",
    "        anlyzr.X_train = anlyzr.X_train.astype(float)\n",
    "        anlyzr.y_train = anlyzr.y_train.astype(float)\n",
    "        #add constant to predictor variables\n",
    "        x = sm.add_constant(anlyzr.X_train)\n",
    "\n",
    "        #fit linear regression model\n",
    "        model = sm.OLS(anlyzr.y_train, anlyzr.X_train).fit()\n",
    "        print(model.summary())\n",
    "        y_cv_pred = model.predict(anlyzr.X_cv)\n",
    "\n",
    "        mse_cv = mean_squared_error(anlyzr.y_cv, y_cv_pred)\n",
    "        r2 = r2_score(anlyzr.y_cv, y_cv_pred)\n",
    "\n",
    "        target_range = np.max(anlyzr.y) - np.min(anlyzr.y)  # Calculate the range of the target variable\n",
    "        accuracy_percentage_cv = (1 - (mse_cv / target_range)) * 100  # Calculate accuracy as a percentage\n",
    "        self.ac_final = accuracy_percentage_cv\n",
    "\n",
    "        # \n",
    "        y_test_pred = model.predict(anlyzr.X_test_final)\n",
    "\n",
    "        mse_test = mean_squared_error(anlyzr.y_test_final, y_test_pred)\n",
    "        r2 = r2_score(anlyzr.y_test_final, y_test_pred)\n",
    "\n",
    "        accuracy_percentage_test = (1 - (mse_test / target_range)) * 100  # Calculate accuracy as a percentage\n",
    "        self.ac_final = accuracy_percentage_test\n",
    "\n",
    "        self.results[\"run_with_ols_cv\"] = accuracy_percentage_cv\n",
    "        self.results[\"run_with_ols_test\"] = accuracy_percentage_test\n",
    "    \n",
    "    def run_cv_problem(self):\n",
    "        self.run_without_cv()\n",
    "        self.run_with_cv()\n",
    "        self.run_with_kfold()\n",
    "        return self.results\n"
   ]
  },
  {
   "cell_type": "code",
   "execution_count": 9,
   "metadata": {},
   "outputs": [
    {
     "name": "stdout",
     "output_type": "stream",
     "text": [
      "                                 OLS Regression Results                                \n",
      "=======================================================================================\n",
      "Dep. Variable:             Appliances   R-squared (uncentered):                   0.901\n",
      "Model:                            OLS   Adj. R-squared (uncentered):              0.901\n",
      "Method:                 Least Squares   F-statistic:                              2204.\n",
      "Date:                Mon, 25 Mar 2024   Prob (F-statistic):                        0.00\n",
      "Time:                        17:39:27   Log-Likelihood:                          4074.7\n",
      "No. Observations:                6063   AIC:                                     -8099.\n",
      "Df Residuals:                    6038   BIC:                                     -7932.\n",
      "Df Model:                          25                                                  \n",
      "Covariance Type:            nonrobust                                                  \n",
      "===============================================================================\n",
      "                  coef    std err          t      P>|t|      [0.025      0.975]\n",
      "-------------------------------------------------------------------------------\n",
      "T1              0.7063      0.128      5.514      0.000       0.455       0.957\n",
      "RH_1            1.6506      0.114     14.524      0.000       1.428       1.873\n",
      "T2             -0.5855      0.115     -5.096      0.000      -0.811      -0.360\n",
      "RH_2           -0.8445      0.111     -7.598      0.000      -1.062      -0.627\n",
      "T3              0.1848      0.078      2.366      0.018       0.032       0.338\n",
      "RH_3           -0.4330      0.085     -5.072      0.000      -0.600      -0.266\n",
      "T4              0.1223      0.071      1.732      0.083      -0.016       0.261\n",
      "RH_4            0.2026      0.081      2.490      0.013       0.043       0.362\n",
      "T5              0.0427      0.076      0.561      0.575      -0.107       0.192\n",
      "RH_5           -0.0484      0.024     -2.008      0.045      -0.096      -0.001\n",
      "T6              0.2150      0.033      6.529      0.000       0.150       0.280\n",
      "RH_6            0.0249      0.016      1.542      0.123      -0.007       0.057\n",
      "T7             -0.6432      0.084     -7.697      0.000      -0.807      -0.479\n",
      "RH_7            0.2543      0.049      5.229      0.000       0.159       0.350\n",
      "T8              1.3368      0.063     21.368      0.000       1.214       1.459\n",
      "RH_8           -0.5751      0.049    -11.813      0.000      -0.671      -0.480\n",
      "T9             -0.6798      0.106     -6.391      0.000      -0.888      -0.471\n",
      "RH_9           -0.4452      0.051     -8.807      0.000      -0.544      -0.346\n",
      "T_out           0.2259      0.108      2.093      0.036       0.014       0.437\n",
      "Press_mm_hg    -0.2350      0.104     -2.266      0.023      -0.438      -0.032\n",
      "RH_out          0.3153      0.104      3.033      0.002       0.112       0.519\n",
      "Windspeed       0.0485      0.008      5.826      0.000       0.032       0.065\n",
      "Visibility     -0.0040      0.011     -0.356      0.722      -0.026       0.018\n",
      "Tdewpoint      -0.2839      0.072     -3.916      0.000      -0.426      -0.142\n",
      "rv1             0.0008      0.003      0.282      0.778      -0.005       0.006\n",
      "rv2             0.0008      0.003      0.282      0.778      -0.005       0.006\n",
      "==============================================================================\n",
      "Omnibus:                     1446.460   Durbin-Watson:                   2.006\n",
      "Prob(Omnibus):                  0.000   Jarque-Bera (JB):             4128.471\n",
      "Skew:                           1.247   Prob(JB):                         0.00\n",
      "Kurtosis:                       6.181   Cond. No.                     1.03e+16\n",
      "==============================================================================\n",
      "\n",
      "Notes:\n",
      "[1] R² is computed without centering (uncentered) since the model does not contain a constant.\n",
      "[2] Standard Errors assume that the covariance matrix of the errors is correctly specified.\n",
      "[3] The smallest eigenvalue is 7.69e-28. This might indicate that there are\n",
      "strong multicollinearity problems or that the design matrix is singular.\n",
      "run_with_ols_cv 98.32256100659534\n",
      "run_with_ols_test 98.37236268512804\n"
     ]
    },
    {
     "data": {
      "text/html": [
       "<div>\n",
       "<style scoped>\n",
       "    .dataframe tbody tr th:only-of-type {\n",
       "        vertical-align: middle;\n",
       "    }\n",
       "\n",
       "    .dataframe tbody tr th {\n",
       "        vertical-align: top;\n",
       "    }\n",
       "\n",
       "    .dataframe thead th {\n",
       "        text-align: right;\n",
       "    }\n",
       "</style>\n",
       "<table border=\"1\" class=\"dataframe\">\n",
       "  <thead>\n",
       "    <tr style=\"text-align: right;\">\n",
       "      <th></th>\n",
       "      <th>method</th>\n",
       "      <th>result</th>\n",
       "    </tr>\n",
       "  </thead>\n",
       "  <tbody>\n",
       "    <tr>\n",
       "      <th>0</th>\n",
       "      <td>run_with_ols_cv</td>\n",
       "      <td>98.322561</td>\n",
       "    </tr>\n",
       "    <tr>\n",
       "      <th>1</th>\n",
       "      <td>run_with_ols_test</td>\n",
       "      <td>98.372363</td>\n",
       "    </tr>\n",
       "  </tbody>\n",
       "</table>\n",
       "</div>"
      ],
      "text/plain": [
       "              method     result\n",
       "0    run_with_ols_cv  98.322561\n",
       "1  run_with_ols_test  98.372363"
      ]
     },
     "execution_count": 9,
     "metadata": {},
     "output_type": "execute_result"
    }
   ],
   "source": [
    "ols_mstr = Master()\n",
    "ols_mstr.run_with_ols()\n",
    "ols_mstr.organize_results()"
   ]
  },
  {
   "cell_type": "code",
   "execution_count": 120,
   "metadata": {},
   "outputs": [
    {
     "name": "stdout",
     "output_type": "stream",
     "text": [
      "run without cv 98.05054283397335\n",
      "run with cv 98.17919339471693\n",
      "after_k_fold_run {'best kfold cv score': 98.41556267393321, 'scores': [98.0949561642839, 98.26141976677035, 98.41556267393321, 98.20092014078358, 97.96462378171411], 'final kfold score on test dataset': 97.94317846064612}\n"
     ]
    },
    {
     "data": {
      "text/html": [
       "<div>\n",
       "<style scoped>\n",
       "    .dataframe tbody tr th:only-of-type {\n",
       "        vertical-align: middle;\n",
       "    }\n",
       "\n",
       "    .dataframe tbody tr th {\n",
       "        vertical-align: top;\n",
       "    }\n",
       "\n",
       "    .dataframe thead th {\n",
       "        text-align: right;\n",
       "    }\n",
       "</style>\n",
       "<table border=\"1\" class=\"dataframe\">\n",
       "  <thead>\n",
       "    <tr style=\"text-align: right;\">\n",
       "      <th></th>\n",
       "      <th>method</th>\n",
       "      <th>result</th>\n",
       "    </tr>\n",
       "  </thead>\n",
       "  <tbody>\n",
       "    <tr>\n",
       "      <th>0</th>\n",
       "      <td>run without cv</td>\n",
       "      <td>98.050543</td>\n",
       "    </tr>\n",
       "    <tr>\n",
       "      <th>1</th>\n",
       "      <td>run with cv</td>\n",
       "      <td>98.179193</td>\n",
       "    </tr>\n",
       "    <tr>\n",
       "      <th>2</th>\n",
       "      <td>best kfold cv score</td>\n",
       "      <td>98.415563</td>\n",
       "    </tr>\n",
       "    <tr>\n",
       "      <th>3</th>\n",
       "      <td>scores</td>\n",
       "      <td>[98.0949561642839, 98.26141976677035, 98.41556...</td>\n",
       "    </tr>\n",
       "    <tr>\n",
       "      <th>4</th>\n",
       "      <td>final kfold score on test dataset</td>\n",
       "      <td>97.943178</td>\n",
       "    </tr>\n",
       "  </tbody>\n",
       "</table>\n",
       "</div>"
      ],
      "text/plain": [
       "                              method  \\\n",
       "0                     run without cv   \n",
       "1                        run with cv   \n",
       "2                best kfold cv score   \n",
       "3                             scores   \n",
       "4  final kfold score on test dataset   \n",
       "\n",
       "                                              result  \n",
       "0                                          98.050543  \n",
       "1                                          98.179193  \n",
       "2                                          98.415563  \n",
       "3  [98.0949561642839, 98.26141976677035, 98.41556...  \n",
       "4                                          97.943178  "
      ]
     },
     "execution_count": 120,
     "metadata": {},
     "output_type": "execute_result"
    }
   ],
   "source": [
    "cv_mstr = Master()\n",
    "cv_mstr.run_cv_problem()\n",
    "cv_mstr.organize_results()"
   ]
  },
  {
   "cell_type": "code",
   "execution_count": 125,
   "metadata": {},
   "outputs": [
    {
     "name": "stdout",
     "output_type": "stream",
     "text": [
      "total features =  26\n",
      "[0.11321647 0.05698162 0.08019683 0.06700778 0.08466134 0.08625785\n",
      " 0.10191847 0.09208195 0.11395698 0.07870649 0.08700356 0.11230406\n",
      " 0.12919327 0.0839117  0.1212191  0.09080678 0.12871963 0.08247214\n",
      " 0.07155805 0.09064286 0.05131616 0.01721836 0.02553596 0.04183593\n",
      " 0.00315677 0.00315677]\n",
      "selected features with high mutual information with the target =  21\n",
      "final selected features after removing one of two correlated features =  9\n"
     ]
    },
    {
     "data": {
      "image/png": "[encoded data removed]",
      "text/plain": [
       "<Figure size 2000x2000 with 2 Axes>"
      ]
     },
     "metadata": {},
     "output_type": "display_data"
    },
    {
     "name": "stdout",
     "output_type": "stream",
     "text": [
      "with_filter_method 98.44539841159016\n"
     ]
    },
    {
     "data": {
      "text/html": [
       "<div>\n",
       "<style scoped>\n",
       "    .dataframe tbody tr th:only-of-type {\n",
       "        vertical-align: middle;\n",
       "    }\n",
       "\n",
       "    .dataframe tbody tr th {\n",
       "        vertical-align: top;\n",
       "    }\n",
       "\n",
       "    .dataframe thead th {\n",
       "        text-align: right;\n",
       "    }\n",
       "</style>\n",
       "<table border=\"1\" class=\"dataframe\">\n",
       "  <thead>\n",
       "    <tr style=\"text-align: right;\">\n",
       "      <th></th>\n",
       "      <th>method</th>\n",
       "      <th>result</th>\n",
       "    </tr>\n",
       "  </thead>\n",
       "  <tbody>\n",
       "    <tr>\n",
       "      <th>0</th>\n",
       "      <td>with_filter_method</td>\n",
       "      <td>98.445398</td>\n",
       "    </tr>\n",
       "  </tbody>\n",
       "</table>\n",
       "</div>"
      ],
      "text/plain": [
       "               method     result\n",
       "0  with_filter_method  98.445398"
      ]
     },
     "execution_count": 125,
     "metadata": {},
     "output_type": "execute_result"
    }
   ],
   "source": [
    "filter_mstr = Master()\n",
    "filter_mstr.run_with_filter()\n",
    "filter_mstr.organize_results()"
   ]
  },
  {
   "cell_type": "code",
   "execution_count": 122,
   "metadata": {},
   "outputs": [
    {
     "data": {
      "application/vnd.plotly.v1+json": {
       "config": {
        "plotlyServerURL": "https://plot.ly"
       },
       "data": [
        {
         "mode": "lines+markers",
         "type": "scatter",
         "x": [
          1,
          2,
          3,
          4,
          5,
          6,
          7,
          8,
          9,
          10,
          11,
          12,
          13,
          14,
          15,
          16,
          17,
          18,
          19,
          20,
          21,
          22,
          23,
          24,
          25,
          26
         ],
         "y": [
          97.59378238730582,
          97.80778418099436,
          98.03983672706842,
          98.05924399618898,
          98.12442577874992,
          98.20104107574038,
          98.20447685750858,
          98.18376500498196,
          98.20055015236807,
          98.14866534753737,
          98.11307283484611,
          98.12229321671177,
          98.12004871959911,
          98.18234325907663,
          98.23415681183452,
          98.28198024851632,
          98.29398627960086,
          98.29360956409641,
          98.25713975315645,
          98.25624359072263,
          98.27793342624513,
          98.2191447842119,
          98.16394806485279,
          98.14228004814686,
          97.9702929994327,
          97.94317846064612
         ]
        }
       ],
       "layout": {
        "template": {
         "data": {
          "bar": [
           {
            "error_x": {
             "color": "#2a3f5f"
            },
            "error_y": {
             "color": "#2a3f5f"
            },
            "marker": {
             "line": {
              "color": "#E5ECF6",
              "width": 0.5
             },
             "pattern": {
              "fillmode": "overlay",
              "size": 10,
              "solidity": 0.2
             }
            },
            "type": "bar"
           }
          ],
          "barpolar": [
           {
            "marker": {
             "line": {
              "color": "#E5ECF6",
              "width": 0.5
             },
             "pattern": {
              "fillmode": "overlay",
              "size": 10,
              "solidity": 0.2
             }
            },
            "type": "barpolar"
           }
          ],
          "carpet": [
           {
            "aaxis": {
             "endlinecolor": "#2a3f5f",
             "gridcolor": "white",
             "linecolor": "white",
             "minorgridcolor": "white",
             "startlinecolor": "#2a3f5f"
            },
            "baxis": {
             "endlinecolor": "#2a3f5f",
             "gridcolor": "white",
             "linecolor": "white",
             "minorgridcolor": "white",
             "startlinecolor": "#2a3f5f"
            },
            "type": "carpet"
           }
          ],
          "choropleth": [
           {
            "colorbar": {
             "outlinewidth": 0,
             "ticks": ""
            },
            "type": "choropleth"
           }
          ],
          "contour": [
           {
            "colorbar": {
             "outlinewidth": 0,
             "ticks": ""
            },
            "colorscale": [
             [
              0,
              "#0d0887"
             ],
             [
              0.1111111111111111,
              "#46039f"
             ],
             [
              0.2222222222222222,
              "#7201a8"
             ],
             [
              0.3333333333333333,
              "#9c179e"
             ],
             [
              0.4444444444444444,
              "#bd3786"
             ],
             [
              0.5555555555555556,
              "#d8576b"
             ],
             [
              0.6666666666666666,
              "#ed7953"
             ],
             [
              0.7777777777777778,
              "#fb9f3a"
             ],
             [
              0.8888888888888888,
              "#fdca26"
             ],
             [
              1,
              "#f0f921"
             ]
            ],
            "type": "contour"
           }
          ],
          "contourcarpet": [
           {
            "colorbar": {
             "outlinewidth": 0,
             "ticks": ""
            },
            "type": "contourcarpet"
           }
          ],
          "heatmap": [
           {
            "colorbar": {
             "outlinewidth": 0,
             "ticks": ""
            },
            "colorscale": [
             [
              0,
              "#0d0887"
             ],
             [
              0.1111111111111111,
              "#46039f"
             ],
             [
              0.2222222222222222,
              "#7201a8"
             ],
             [
              0.3333333333333333,
              "#9c179e"
             ],
             [
              0.4444444444444444,
              "#bd3786"
             ],
             [
              0.5555555555555556,
              "#d8576b"
             ],
             [
              0.6666666666666666,
              "#ed7953"
             ],
             [
              0.7777777777777778,
              "#fb9f3a"
             ],
             [
              0.8888888888888888,
              "#fdca26"
             ],
             [
              1,
              "#f0f921"
             ]
            ],
            "type": "heatmap"
           }
          ],
          "heatmapgl": [
           {
            "colorbar": {
             "outlinewidth": 0,
             "ticks": ""
            },
            "colorscale": [
             [
              0,
              "#0d0887"
             ],
             [
              0.1111111111111111,
              "#46039f"
             ],
             [
              0.2222222222222222,
              "#7201a8"
             ],
             [
              0.3333333333333333,
              "#9c179e"
             ],
             [
              0.4444444444444444,
              "#bd3786"
             ],
             [
              0.5555555555555556,
              "#d8576b"
             ],
             [
              0.6666666666666666,
              "#ed7953"
             ],
             [
              0.7777777777777778,
              "#fb9f3a"
             ],
             [
              0.8888888888888888,
              "#fdca26"
             ],
             [
              1,
              "#f0f921"
             ]
            ],
            "type": "heatmapgl"
           }
          ],
          "histogram": [
           {
            "marker": {
             "pattern": {
              "fillmode": "overlay",
              "size": 10,
              "solidity": 0.2
             }
            },
            "type": "histogram"
           }
          ],
          "histogram2d": [
           {
            "colorbar": {
             "outlinewidth": 0,
             "ticks": ""
            },
            "colorscale": [
             [
              0,
              "#0d0887"
             ],
             [
              0.1111111111111111,
              "#46039f"
             ],
             [
              0.2222222222222222,
              "#7201a8"
             ],
             [
              0.3333333333333333,
              "#9c179e"
             ],
             [
              0.4444444444444444,
              "#bd3786"
             ],
             [
              0.5555555555555556,
              "#d8576b"
             ],
             [
              0.6666666666666666,
              "#ed7953"
             ],
             [
              0.7777777777777778,
              "#fb9f3a"
             ],
             [
              0.8888888888888888,
              "#fdca26"
             ],
             [
              1,
              "#f0f921"
             ]
            ],
            "type": "histogram2d"
           }
          ],
          "histogram2dcontour": [
           {
            "colorbar": {
             "outlinewidth": 0,
             "ticks": ""
            },
            "colorscale": [
             [
              0,
              "#0d0887"
             ],
             [
              0.1111111111111111,
              "#46039f"
             ],
             [
              0.2222222222222222,
              "#7201a8"
             ],
             [
              0.3333333333333333,
              "#9c179e"
             ],
             [
              0.4444444444444444,
              "#bd3786"
             ],
             [
              0.5555555555555556,
              "#d8576b"
             ],
             [
              0.6666666666666666,
              "#ed7953"
             ],
             [
              0.7777777777777778,
              "#fb9f3a"
             ],
             [
              0.8888888888888888,
              "#fdca26"
             ],
             [
              1,
              "#f0f921"
             ]
            ],
            "type": "histogram2dcontour"
           }
          ],
          "mesh3d": [
           {
            "colorbar": {
             "outlinewidth": 0,
             "ticks": ""
            },
            "type": "mesh3d"
           }
          ],
          "parcoords": [
           {
            "line": {
             "colorbar": {
              "outlinewidth": 0,
              "ticks": ""
             }
            },
            "type": "parcoords"
           }
          ],
          "pie": [
           {
            "automargin": true,
            "type": "pie"
           }
          ],
          "scatter": [
           {
            "fillpattern": {
             "fillmode": "overlay",
             "size": 10,
             "solidity": 0.2
            },
            "type": "scatter"
           }
          ],
          "scatter3d": [
           {
            "line": {
             "colorbar": {
              "outlinewidth": 0,
              "ticks": ""
             }
            },
            "marker": {
             "colorbar": {
              "outlinewidth": 0,
              "ticks": ""
             }
            },
            "type": "scatter3d"
           }
          ],
          "scattercarpet": [
           {
            "marker": {
             "colorbar": {
              "outlinewidth": 0,
              "ticks": ""
             }
            },
            "type": "scattercarpet"
           }
          ],
          "scattergeo": [
           {
            "marker": {
             "colorbar": {
              "outlinewidth": 0,
              "ticks": ""
             }
            },
            "type": "scattergeo"
           }
          ],
          "scattergl": [
           {
            "marker": {
             "colorbar": {
              "outlinewidth": 0,
              "ticks": ""
             }
            },
            "type": "scattergl"
           }
          ],
          "scattermapbox": [
           {
            "marker": {
             "colorbar": {
              "outlinewidth": 0,
              "ticks": ""
             }
            },
            "type": "scattermapbox"
           }
          ],
          "scatterpolar": [
           {
            "marker": {
             "colorbar": {
              "outlinewidth": 0,
              "ticks": ""
             }
            },
            "type": "scatterpolar"
           }
          ],
          "scatterpolargl": [
           {
            "marker": {
             "colorbar": {
              "outlinewidth": 0,
              "ticks": ""
             }
            },
            "type": "scatterpolargl"
           }
          ],
          "scatterternary": [
           {
            "marker": {
             "colorbar": {
              "outlinewidth": 0,
              "ticks": ""
             }
            },
            "type": "scatterternary"
           }
          ],
          "surface": [
           {
            "colorbar": {
             "outlinewidth": 0,
             "ticks": ""
            },
            "colorscale": [
             [
              0,
              "#0d0887"
             ],
             [
              0.1111111111111111,
              "#46039f"
             ],
             [
              0.2222222222222222,
              "#7201a8"
             ],
             [
              0.3333333333333333,
              "#9c179e"
             ],
             [
              0.4444444444444444,
              "#bd3786"
             ],
             [
              0.5555555555555556,
              "#d8576b"
             ],
             [
              0.6666666666666666,
              "#ed7953"
             ],
             [
              0.7777777777777778,
              "#fb9f3a"
             ],
             [
              0.8888888888888888,
              "#fdca26"
             ],
             [
              1,
              "#f0f921"
             ]
            ],
            "type": "surface"
           }
          ],
          "table": [
           {
            "cells": {
             "fill": {
              "color": "#EBF0F8"
             },
             "line": {
              "color": "white"
             }
            },
            "header": {
             "fill": {
              "color": "#C8D4E3"
             },
             "line": {
              "color": "white"
             }
            },
            "type": "table"
           }
          ]
         },
         "layout": {
          "annotationdefaults": {
           "arrowcolor": "#2a3f5f",
           "arrowhead": 0,
           "arrowwidth": 1
          },
          "autotypenumbers": "strict",
          "coloraxis": {
           "colorbar": {
            "outlinewidth": 0,
            "ticks": ""
           }
          },
          "colorscale": {
           "diverging": [
            [
             0,
             "#8e0152"
            ],
            [
             0.1,
             "#c51b7d"
            ],
            [
             0.2,
             "#de77ae"
            ],
            [
             0.3,
             "#f1b6da"
            ],
            [
             0.4,
             "#fde0ef"
            ],
            [
             0.5,
             "#f7f7f7"
            ],
            [
             0.6,
             "#e6f5d0"
            ],
            [
             0.7,
             "#b8e186"
            ],
            [
             0.8,
             "#7fbc41"
            ],
            [
             0.9,
             "#4d9221"
            ],
            [
             1,
             "#276419"
            ]
           ],
           "sequential": [
            [
             0,
             "#0d0887"
            ],
            [
             0.1111111111111111,
             "#46039f"
            ],
            [
             0.2222222222222222,
             "#7201a8"
            ],
            [
             0.3333333333333333,
             "#9c179e"
            ],
            [
             0.4444444444444444,
             "#bd3786"
            ],
            [
             0.5555555555555556,
             "#d8576b"
            ],
            [
             0.6666666666666666,
             "#ed7953"
            ],
            [
             0.7777777777777778,
             "#fb9f3a"
            ],
            [
             0.8888888888888888,
             "#fdca26"
            ],
            [
             1,
             "#f0f921"
            ]
           ],
           "sequentialminus": [
            [
             0,
             "#0d0887"
            ],
            [
             0.1111111111111111,
             "#46039f"
            ],
            [
             0.2222222222222222,
             "#7201a8"
            ],
            [
             0.3333333333333333,
             "#9c179e"
            ],
            [
             0.4444444444444444,
             "#bd3786"
            ],
            [
             0.5555555555555556,
             "#d8576b"
            ],
            [
             0.6666666666666666,
             "#ed7953"
            ],
            [
             0.7777777777777778,
             "#fb9f3a"
            ],
            [
             0.8888888888888888,
             "#fdca26"
            ],
            [
             1,
             "#f0f921"
            ]
           ]
          },
          "colorway": [
           "#636efa",
           "#EF553B",
           "#00cc96",
           "#ab63fa",
           "#FFA15A",
           "#19d3f3",
           "#FF6692",
           "#B6E880",
           "#FF97FF",
           "#FECB52"
          ],
          "font": {
           "color": "#2a3f5f"
          },
          "geo": {
           "bgcolor": "white",
           "lakecolor": "white",
           "landcolor": "#E5ECF6",
           "showlakes": true,
           "showland": true,
           "subunitcolor": "white"
          },
          "hoverlabel": {
           "align": "left"
          },
          "hovermode": "closest",
          "mapbox": {
           "style": "light"
          },
          "paper_bgcolor": "white",
          "plot_bgcolor": "#E5ECF6",
          "polar": {
           "angularaxis": {
            "gridcolor": "white",
            "linecolor": "white",
            "ticks": ""
           },
           "bgcolor": "#E5ECF6",
           "radialaxis": {
            "gridcolor": "white",
            "linecolor": "white",
            "ticks": ""
           }
          },
          "scene": {
           "xaxis": {
            "backgroundcolor": "#E5ECF6",
            "gridcolor": "white",
            "gridwidth": 2,
            "linecolor": "white",
            "showbackground": true,
            "ticks": "",
            "zerolinecolor": "white"
           },
           "yaxis": {
            "backgroundcolor": "#E5ECF6",
            "gridcolor": "white",
            "gridwidth": 2,
            "linecolor": "white",
            "showbackground": true,
            "ticks": "",
            "zerolinecolor": "white"
           },
           "zaxis": {
            "backgroundcolor": "#E5ECF6",
            "gridcolor": "white",
            "gridwidth": 2,
            "linecolor": "white",
            "showbackground": true,
            "ticks": "",
            "zerolinecolor": "white"
           }
          },
          "shapedefaults": {
           "line": {
            "color": "#2a3f5f"
           }
          },
          "ternary": {
           "aaxis": {
            "gridcolor": "white",
            "linecolor": "white",
            "ticks": ""
           },
           "baxis": {
            "gridcolor": "white",
            "linecolor": "white",
            "ticks": ""
           },
           "bgcolor": "#E5ECF6",
           "caxis": {
            "gridcolor": "white",
            "linecolor": "white",
            "ticks": ""
           }
          },
          "title": {
           "x": 0.05
          },
          "xaxis": {
           "automargin": true,
           "gridcolor": "white",
           "linecolor": "white",
           "ticks": "",
           "title": {
            "standoff": 15
           },
           "zerolinecolor": "white",
           "zerolinewidth": 2
          },
          "yaxis": {
           "automargin": true,
           "gridcolor": "white",
           "linecolor": "white",
           "ticks": "",
           "title": {
            "standoff": 15
           },
           "zerolinecolor": "white",
           "zerolinewidth": 2
          }
         }
        },
        "title": {
         "text": "Wrapper Method Feature Scores"
        },
        "xaxis": {
         "title": {
          "text": "Number of Features"
         }
        },
        "yaxis": {
         "title": {
          "text": "Accuracy"
         }
        }
       }
      }
     },
     "metadata": {},
     "output_type": "display_data"
    },
    {
     "name": "stdout",
     "output_type": "stream",
     "text": [
      "best_num_of_features 17\n",
      "best_score 98.29398627960086\n"
     ]
    },
    {
     "data": {
      "text/html": [
       "<div>\n",
       "<style scoped>\n",
       "    .dataframe tbody tr th:only-of-type {\n",
       "        vertical-align: middle;\n",
       "    }\n",
       "\n",
       "    .dataframe tbody tr th {\n",
       "        vertical-align: top;\n",
       "    }\n",
       "\n",
       "    .dataframe thead th {\n",
       "        text-align: right;\n",
       "    }\n",
       "</style>\n",
       "<table border=\"1\" class=\"dataframe\">\n",
       "  <thead>\n",
       "    <tr style=\"text-align: right;\">\n",
       "      <th></th>\n",
       "      <th>method</th>\n",
       "      <th>result</th>\n",
       "    </tr>\n",
       "  </thead>\n",
       "  <tbody>\n",
       "    <tr>\n",
       "      <th>0</th>\n",
       "      <td>best_num_of_features</td>\n",
       "      <td>17.000000</td>\n",
       "    </tr>\n",
       "    <tr>\n",
       "      <th>1</th>\n",
       "      <td>best_score</td>\n",
       "      <td>98.293986</td>\n",
       "    </tr>\n",
       "  </tbody>\n",
       "</table>\n",
       "</div>"
      ],
      "text/plain": [
       "                 method     result\n",
       "0  best_num_of_features  17.000000\n",
       "1            best_score  98.293986"
      ]
     },
     "execution_count": 122,
     "metadata": {},
     "output_type": "execute_result"
    }
   ],
   "source": [
    "wrapper_mstr = Master()\n",
    "wrapper_mstr.run_with_wrapper()\n",
    "wrapper_mstr.organize_results()"
   ]
  },
  {
   "cell_type": "code",
   "execution_count": 123,
   "metadata": {},
   "outputs": [
    {
     "name": "stdout",
     "output_type": "stream",
     "text": [
      "with_pca 98.1187089078955\n"
     ]
    },
    {
     "data": {
      "text/html": [
       "<div>\n",
       "<style scoped>\n",
       "    .dataframe tbody tr th:only-of-type {\n",
       "        vertical-align: middle;\n",
       "    }\n",
       "\n",
       "    .dataframe tbody tr th {\n",
       "        vertical-align: top;\n",
       "    }\n",
       "\n",
       "    .dataframe thead th {\n",
       "        text-align: right;\n",
       "    }\n",
       "</style>\n",
       "<table border=\"1\" class=\"dataframe\">\n",
       "  <thead>\n",
       "    <tr style=\"text-align: right;\">\n",
       "      <th></th>\n",
       "      <th>method</th>\n",
       "      <th>result</th>\n",
       "    </tr>\n",
       "  </thead>\n",
       "  <tbody>\n",
       "    <tr>\n",
       "      <th>0</th>\n",
       "      <td>with_pca</td>\n",
       "      <td>98.118709</td>\n",
       "    </tr>\n",
       "  </tbody>\n",
       "</table>\n",
       "</div>"
      ],
      "text/plain": [
       "     method     result\n",
       "0  with_pca  98.118709"
      ]
     },
     "execution_count": 123,
     "metadata": {},
     "output_type": "execute_result"
    }
   ],
   "source": [
    "pca_mstr = Master()\n",
    "pca_mstr.run_with_pca()\n",
    "pca_mstr.organize_results()"
   ]
  }
 ],
 "metadata": {
  "kernelspec": {
   "display_name": "assgn_2_env",
   "language": "python",
   "name": "python3"
  },
  "language_info": {
   "codemirror_mode": {
    "name": "ipython",
    "version": 3
   },
   "file_extension": ".py",
   "mimetype": "text/x-python",
   "name": "python",
   "nbconvert_exporter": "python",
   "pygments_lexer": "ipython3",
   "version": "3.10.13"
  },
  "orig_nbformat": 4
 },
 "nbformat": 4,
 "nbformat_minor": 2
}
